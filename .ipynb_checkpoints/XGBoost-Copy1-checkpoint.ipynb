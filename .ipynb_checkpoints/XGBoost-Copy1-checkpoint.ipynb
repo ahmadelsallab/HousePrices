{
 "cells": [
  {
   "cell_type": "code",
   "execution_count": 1,
   "metadata": {
    "collapsed": false
   },
   "outputs": [
    {
     "name": "stderr",
     "output_type": "stream",
     "text": [
      "C:\\Anaconda3\\lib\\site-packages\\sklearn\\cross_validation.py:41: DeprecationWarning: This module was deprecated in version 0.18 in favor of the model_selection module into which all the refactored classes and functions are moved. Also note that the interface of the new CV iterators are different from that of this module. This module will be removed in 0.20.\n",
      "  \"This module will be removed in 0.20.\", DeprecationWarning)\n"
     ]
    }
   ],
   "source": [
    "import pandas as pd\n",
    "import numpy as np\n",
    "from sklearn.preprocessing import Imputer\n",
    "from scipy.stats import skew\n",
    "from sklearn.model_selection import train_test_split\n",
    "from xgboost import XGBRegressor\n",
    "from sklearn.metrics import mean_absolute_error, mean_squared_error\n",
    "%matplotlib inline"
   ]
  },
  {
   "cell_type": "markdown",
   "metadata": {},
   "source": [
    "# Data load"
   ]
  },
  {
   "cell_type": "code",
   "execution_count": 2,
   "metadata": {
    "collapsed": false
   },
   "outputs": [
    {
     "name": "stdout",
     "output_type": "stream",
     "text": [
      "(1460, 81)\n"
     ]
    },
    {
     "data": {
      "text/html": [
       "<div>\n",
       "<table border=\"1\" class=\"dataframe\">\n",
       "  <thead>\n",
       "    <tr style=\"text-align: right;\">\n",
       "      <th></th>\n",
       "      <th>Id</th>\n",
       "      <th>MSSubClass</th>\n",
       "      <th>MSZoning</th>\n",
       "      <th>LotFrontage</th>\n",
       "      <th>LotArea</th>\n",
       "      <th>Street</th>\n",
       "      <th>Alley</th>\n",
       "      <th>LotShape</th>\n",
       "      <th>LandContour</th>\n",
       "      <th>Utilities</th>\n",
       "      <th>...</th>\n",
       "      <th>PoolArea</th>\n",
       "      <th>PoolQC</th>\n",
       "      <th>Fence</th>\n",
       "      <th>MiscFeature</th>\n",
       "      <th>MiscVal</th>\n",
       "      <th>MoSold</th>\n",
       "      <th>YrSold</th>\n",
       "      <th>SaleType</th>\n",
       "      <th>SaleCondition</th>\n",
       "      <th>SalePrice</th>\n",
       "    </tr>\n",
       "  </thead>\n",
       "  <tbody>\n",
       "    <tr>\n",
       "      <th>0</th>\n",
       "      <td>1</td>\n",
       "      <td>60</td>\n",
       "      <td>RL</td>\n",
       "      <td>65.0</td>\n",
       "      <td>8450</td>\n",
       "      <td>Pave</td>\n",
       "      <td>NaN</td>\n",
       "      <td>Reg</td>\n",
       "      <td>Lvl</td>\n",
       "      <td>AllPub</td>\n",
       "      <td>...</td>\n",
       "      <td>0</td>\n",
       "      <td>NaN</td>\n",
       "      <td>NaN</td>\n",
       "      <td>NaN</td>\n",
       "      <td>0</td>\n",
       "      <td>2</td>\n",
       "      <td>2008</td>\n",
       "      <td>WD</td>\n",
       "      <td>Normal</td>\n",
       "      <td>208500</td>\n",
       "    </tr>\n",
       "    <tr>\n",
       "      <th>1</th>\n",
       "      <td>2</td>\n",
       "      <td>20</td>\n",
       "      <td>RL</td>\n",
       "      <td>80.0</td>\n",
       "      <td>9600</td>\n",
       "      <td>Pave</td>\n",
       "      <td>NaN</td>\n",
       "      <td>Reg</td>\n",
       "      <td>Lvl</td>\n",
       "      <td>AllPub</td>\n",
       "      <td>...</td>\n",
       "      <td>0</td>\n",
       "      <td>NaN</td>\n",
       "      <td>NaN</td>\n",
       "      <td>NaN</td>\n",
       "      <td>0</td>\n",
       "      <td>5</td>\n",
       "      <td>2007</td>\n",
       "      <td>WD</td>\n",
       "      <td>Normal</td>\n",
       "      <td>181500</td>\n",
       "    </tr>\n",
       "    <tr>\n",
       "      <th>2</th>\n",
       "      <td>3</td>\n",
       "      <td>60</td>\n",
       "      <td>RL</td>\n",
       "      <td>68.0</td>\n",
       "      <td>11250</td>\n",
       "      <td>Pave</td>\n",
       "      <td>NaN</td>\n",
       "      <td>IR1</td>\n",
       "      <td>Lvl</td>\n",
       "      <td>AllPub</td>\n",
       "      <td>...</td>\n",
       "      <td>0</td>\n",
       "      <td>NaN</td>\n",
       "      <td>NaN</td>\n",
       "      <td>NaN</td>\n",
       "      <td>0</td>\n",
       "      <td>9</td>\n",
       "      <td>2008</td>\n",
       "      <td>WD</td>\n",
       "      <td>Normal</td>\n",
       "      <td>223500</td>\n",
       "    </tr>\n",
       "  </tbody>\n",
       "</table>\n",
       "<p>3 rows × 81 columns</p>\n",
       "</div>"
      ],
      "text/plain": [
       "   Id  MSSubClass MSZoning  LotFrontage  LotArea Street Alley LotShape  \\\n",
       "0   1          60       RL         65.0     8450   Pave   NaN      Reg   \n",
       "1   2          20       RL         80.0     9600   Pave   NaN      Reg   \n",
       "2   3          60       RL         68.0    11250   Pave   NaN      IR1   \n",
       "\n",
       "  LandContour Utilities    ...     PoolArea PoolQC Fence MiscFeature MiscVal  \\\n",
       "0         Lvl    AllPub    ...            0    NaN   NaN         NaN       0   \n",
       "1         Lvl    AllPub    ...            0    NaN   NaN         NaN       0   \n",
       "2         Lvl    AllPub    ...            0    NaN   NaN         NaN       0   \n",
       "\n",
       "  MoSold YrSold  SaleType  SaleCondition  SalePrice  \n",
       "0      2   2008        WD         Normal     208500  \n",
       "1      5   2007        WD         Normal     181500  \n",
       "2      9   2008        WD         Normal     223500  \n",
       "\n",
       "[3 rows x 81 columns]"
      ]
     },
     "execution_count": 2,
     "metadata": {},
     "output_type": "execute_result"
    }
   ],
   "source": [
    "train_df = pd.read_csv('../dat/train.csv')\n",
    "print(train_df.shape)\n",
    "train_df.head(3)"
   ]
  },
  {
   "cell_type": "code",
   "execution_count": 3,
   "metadata": {
    "collapsed": false
   },
   "outputs": [
    {
     "data": {
      "text/plain": [
       "Index(['Id', 'MSSubClass', 'MSZoning', 'LotFrontage', 'LotArea', 'Street',\n",
       "       'Alley', 'LotShape', 'LandContour', 'Utilities', 'LotConfig',\n",
       "       'LandSlope', 'Neighborhood', 'Condition1', 'Condition2', 'BldgType',\n",
       "       'HouseStyle', 'OverallQual', 'OverallCond', 'YearBuilt', 'YearRemodAdd',\n",
       "       'RoofStyle', 'RoofMatl', 'Exterior1st', 'Exterior2nd', 'MasVnrType',\n",
       "       'MasVnrArea', 'ExterQual', 'ExterCond', 'Foundation', 'BsmtQual',\n",
       "       'BsmtCond', 'BsmtExposure', 'BsmtFinType1', 'BsmtFinSF1',\n",
       "       'BsmtFinType2', 'BsmtFinSF2', 'BsmtUnfSF', 'TotalBsmtSF', 'Heating',\n",
       "       'HeatingQC', 'CentralAir', 'Electrical', '1stFlrSF', '2ndFlrSF',\n",
       "       'LowQualFinSF', 'GrLivArea', 'BsmtFullBath', 'BsmtHalfBath', 'FullBath',\n",
       "       'HalfBath', 'BedroomAbvGr', 'KitchenAbvGr', 'KitchenQual',\n",
       "       'TotRmsAbvGrd', 'Functional', 'Fireplaces', 'FireplaceQu', 'GarageType',\n",
       "       'GarageYrBlt', 'GarageFinish', 'GarageCars', 'GarageArea', 'GarageQual',\n",
       "       'GarageCond', 'PavedDrive', 'WoodDeckSF', 'OpenPorchSF',\n",
       "       'EnclosedPorch', '3SsnPorch', 'ScreenPorch', 'PoolArea', 'PoolQC',\n",
       "       'Fence', 'MiscFeature', 'MiscVal', 'MoSold', 'YrSold', 'SaleType',\n",
       "       'SaleCondition', 'SalePrice'],\n",
       "      dtype='object')"
      ]
     },
     "execution_count": 3,
     "metadata": {},
     "output_type": "execute_result"
    }
   ],
   "source": [
    "train_df.columns"
   ]
  },
  {
   "cell_type": "markdown",
   "metadata": {},
   "source": [
    "## You must drop the target colomn"
   ]
  },
  {
   "cell_type": "code",
   "execution_count": 4,
   "metadata": {
    "collapsed": false
   },
   "outputs": [],
   "source": [
    "y = train_df.SalePrice\n",
    "train_df = train_df.drop('SalePrice', axis=1)\n",
    "train_idx = len(train_df)"
   ]
  },
  {
   "cell_type": "code",
   "execution_count": 5,
   "metadata": {
    "collapsed": false
   },
   "outputs": [
    {
     "name": "stdout",
     "output_type": "stream",
     "text": [
      "(1459, 80)\n"
     ]
    },
    {
     "data": {
      "text/plain": [
       "True"
      ]
     },
     "execution_count": 5,
     "metadata": {},
     "output_type": "execute_result"
    }
   ],
   "source": [
    "test_df = pd.read_csv('../dat/test.csv')\n",
    "print(test_df.shape)\n",
    "len(test_df.columns) == len(train_df.columns)"
   ]
  },
  {
   "cell_type": "code",
   "execution_count": 6,
   "metadata": {
    "collapsed": false
   },
   "outputs": [
    {
     "data": {
      "text/plain": [
       "(2919, 80)"
      ]
     },
     "execution_count": 6,
     "metadata": {},
     "output_type": "execute_result"
    }
   ],
   "source": [
    "df = pd.concat([train_df, test_df], axis=0)\n",
    "df.shape"
   ]
  },
  {
   "cell_type": "markdown",
   "metadata": {},
   "source": [
    "# Missing Vals"
   ]
  },
  {
   "cell_type": "code",
   "execution_count": 7,
   "metadata": {
    "collapsed": true
   },
   "outputs": [],
   "source": [
    "# Number of colomns with nulls\n",
    "def check_nulls(df):\n",
    "    print(df.isnull().sum())\n",
    "    return len(df.isnull().sum().nonzero()[0])"
   ]
  },
  {
   "cell_type": "code",
   "execution_count": 8,
   "metadata": {
    "collapsed": false
   },
   "outputs": [
    {
     "name": "stdout",
     "output_type": "stream",
     "text": [
      "Id                  0\n",
      "MSSubClass          0\n",
      "MSZoning            4\n",
      "LotFrontage       486\n",
      "LotArea             0\n",
      "Street              0\n",
      "Alley            2721\n",
      "LotShape            0\n",
      "LandContour         0\n",
      "Utilities           2\n",
      "LotConfig           0\n",
      "LandSlope           0\n",
      "Neighborhood        0\n",
      "Condition1          0\n",
      "Condition2          0\n",
      "BldgType            0\n",
      "HouseStyle          0\n",
      "OverallQual         0\n",
      "OverallCond         0\n",
      "YearBuilt           0\n",
      "YearRemodAdd        0\n",
      "RoofStyle           0\n",
      "RoofMatl            0\n",
      "Exterior1st         1\n",
      "Exterior2nd         1\n",
      "MasVnrType         24\n",
      "MasVnrArea         23\n",
      "ExterQual           0\n",
      "ExterCond           0\n",
      "Foundation          0\n",
      "                 ... \n",
      "HalfBath            0\n",
      "BedroomAbvGr        0\n",
      "KitchenAbvGr        0\n",
      "KitchenQual         1\n",
      "TotRmsAbvGrd        0\n",
      "Functional          2\n",
      "Fireplaces          0\n",
      "FireplaceQu      1420\n",
      "GarageType        157\n",
      "GarageYrBlt       159\n",
      "GarageFinish      159\n",
      "GarageCars          1\n",
      "GarageArea          1\n",
      "GarageQual        159\n",
      "GarageCond        159\n",
      "PavedDrive          0\n",
      "WoodDeckSF          0\n",
      "OpenPorchSF         0\n",
      "EnclosedPorch       0\n",
      "3SsnPorch           0\n",
      "ScreenPorch         0\n",
      "PoolArea            0\n",
      "PoolQC           2909\n",
      "Fence            2348\n",
      "MiscFeature      2814\n",
      "MiscVal             0\n",
      "MoSold              0\n",
      "YrSold              0\n",
      "SaleType            1\n",
      "SaleCondition       0\n",
      "dtype: int64\n",
      "Number of colomns with nulls:  34\n"
     ]
    }
   ],
   "source": [
    "print('Number of colomns with nulls: ', check_nulls(df))"
   ]
  },
  {
   "cell_type": "markdown",
   "metadata": {},
   "source": [
    "## Object type fill in missing vals:"
   ]
  },
  {
   "cell_type": "code",
   "execution_count": 9,
   "metadata": {
    "collapsed": false
   },
   "outputs": [
    {
     "name": "stdout",
     "output_type": "stream",
     "text": [
      "(2919, 43)\n"
     ]
    }
   ],
   "source": [
    "df_obj = df.select_dtypes(include=['object'])\n",
    "print(df_obj.shape)\n"
   ]
  },
  {
   "cell_type": "code",
   "execution_count": 10,
   "metadata": {
    "collapsed": false
   },
   "outputs": [
    {
     "name": "stdout",
     "output_type": "stream",
     "text": [
      "MSZoning            4\n",
      "Street              0\n",
      "Alley            2721\n",
      "LotShape            0\n",
      "LandContour         0\n",
      "Utilities           2\n",
      "LotConfig           0\n",
      "LandSlope           0\n",
      "Neighborhood        0\n",
      "Condition1          0\n",
      "Condition2          0\n",
      "BldgType            0\n",
      "HouseStyle          0\n",
      "RoofStyle           0\n",
      "RoofMatl            0\n",
      "Exterior1st         1\n",
      "Exterior2nd         1\n",
      "MasVnrType         24\n",
      "ExterQual           0\n",
      "ExterCond           0\n",
      "Foundation          0\n",
      "BsmtQual           81\n",
      "BsmtCond           82\n",
      "BsmtExposure       82\n",
      "BsmtFinType1       79\n",
      "BsmtFinType2       80\n",
      "Heating             0\n",
      "HeatingQC           0\n",
      "CentralAir          0\n",
      "Electrical          1\n",
      "KitchenQual         1\n",
      "Functional          2\n",
      "FireplaceQu      1420\n",
      "GarageType        157\n",
      "GarageFinish      159\n",
      "GarageQual        159\n",
      "GarageCond        159\n",
      "PavedDrive          0\n",
      "PoolQC           2909\n",
      "Fence            2348\n",
      "MiscFeature      2814\n",
      "SaleType            1\n",
      "SaleCondition       0\n",
      "dtype: int64\n",
      "Number of colomns with nulls:  23\n"
     ]
    }
   ],
   "source": [
    "print('Number of colomns with nulls: ', check_nulls(df_obj))"
   ]
  },
  {
   "cell_type": "markdown",
   "metadata": {},
   "source": [
    "## FILLING ALL with None is not always the good way. Sometimes there's a specific default value per colomns"
   ]
  },
  {
   "cell_type": "code",
   "execution_count": 11,
   "metadata": {
    "collapsed": true
   },
   "outputs": [],
   "source": [
    "df_obj = df_obj.fillna(\"None\")"
   ]
  },
  {
   "cell_type": "code",
   "execution_count": 12,
   "metadata": {
    "collapsed": false
   },
   "outputs": [
    {
     "name": "stdout",
     "output_type": "stream",
     "text": [
      "MSZoning         0\n",
      "Street           0\n",
      "Alley            0\n",
      "LotShape         0\n",
      "LandContour      0\n",
      "Utilities        0\n",
      "LotConfig        0\n",
      "LandSlope        0\n",
      "Neighborhood     0\n",
      "Condition1       0\n",
      "Condition2       0\n",
      "BldgType         0\n",
      "HouseStyle       0\n",
      "RoofStyle        0\n",
      "RoofMatl         0\n",
      "Exterior1st      0\n",
      "Exterior2nd      0\n",
      "MasVnrType       0\n",
      "ExterQual        0\n",
      "ExterCond        0\n",
      "Foundation       0\n",
      "BsmtQual         0\n",
      "BsmtCond         0\n",
      "BsmtExposure     0\n",
      "BsmtFinType1     0\n",
      "BsmtFinType2     0\n",
      "Heating          0\n",
      "HeatingQC        0\n",
      "CentralAir       0\n",
      "Electrical       0\n",
      "KitchenQual      0\n",
      "Functional       0\n",
      "FireplaceQu      0\n",
      "GarageType       0\n",
      "GarageFinish     0\n",
      "GarageQual       0\n",
      "GarageCond       0\n",
      "PavedDrive       0\n",
      "PoolQC           0\n",
      "Fence            0\n",
      "MiscFeature      0\n",
      "SaleType         0\n",
      "SaleCondition    0\n",
      "dtype: int64\n",
      "Number of colomns with nulls:  0\n"
     ]
    }
   ],
   "source": [
    "print('Number of colomns with nulls: ', check_nulls(df_obj))"
   ]
  },
  {
   "cell_type": "markdown",
   "metadata": {},
   "source": [
    "## Numerical missing values handling:"
   ]
  },
  {
   "cell_type": "code",
   "execution_count": 13,
   "metadata": {
    "collapsed": false,
    "scrolled": true
   },
   "outputs": [
    {
     "name": "stdout",
     "output_type": "stream",
     "text": [
      "(2919, 37)\n"
     ]
    }
   ],
   "source": [
    "imp = Imputer()\n",
    "df_non_obj = df.select_dtypes(exclude=['object'])\n",
    "print(df_non_obj.shape)"
   ]
  },
  {
   "cell_type": "code",
   "execution_count": 14,
   "metadata": {
    "collapsed": false
   },
   "outputs": [
    {
     "name": "stdout",
     "output_type": "stream",
     "text": [
      "Id                 0\n",
      "MSSubClass         0\n",
      "LotFrontage      486\n",
      "LotArea            0\n",
      "OverallQual        0\n",
      "OverallCond        0\n",
      "YearBuilt          0\n",
      "YearRemodAdd       0\n",
      "MasVnrArea        23\n",
      "BsmtFinSF1         1\n",
      "BsmtFinSF2         1\n",
      "BsmtUnfSF          1\n",
      "TotalBsmtSF        1\n",
      "1stFlrSF           0\n",
      "2ndFlrSF           0\n",
      "LowQualFinSF       0\n",
      "GrLivArea          0\n",
      "BsmtFullBath       2\n",
      "BsmtHalfBath       2\n",
      "FullBath           0\n",
      "HalfBath           0\n",
      "BedroomAbvGr       0\n",
      "KitchenAbvGr       0\n",
      "TotRmsAbvGrd       0\n",
      "Fireplaces         0\n",
      "GarageYrBlt      159\n",
      "GarageCars         1\n",
      "GarageArea         1\n",
      "WoodDeckSF         0\n",
      "OpenPorchSF        0\n",
      "EnclosedPorch      0\n",
      "3SsnPorch          0\n",
      "ScreenPorch        0\n",
      "PoolArea           0\n",
      "MiscVal            0\n",
      "MoSold             0\n",
      "YrSold             0\n",
      "dtype: int64\n",
      "Number of colomns with nulls:  11\n"
     ]
    }
   ],
   "source": [
    "print('Number of colomns with nulls: ', check_nulls(df_non_obj))"
   ]
  },
  {
   "cell_type": "code",
   "execution_count": 15,
   "metadata": {
    "collapsed": false,
    "scrolled": true
   },
   "outputs": [],
   "source": [
    "#train_df_non_obj = imp.fit_transform(train_df_non_obj)\n",
    "df_non_obj = pd.DataFrame(imp.fit_transform(df_non_obj), index=df_non_obj.index, columns=df_non_obj.columns)\n"
   ]
  },
  {
   "cell_type": "code",
   "execution_count": 16,
   "metadata": {
    "collapsed": false
   },
   "outputs": [
    {
     "name": "stdout",
     "output_type": "stream",
     "text": [
      "Id               0\n",
      "MSSubClass       0\n",
      "LotFrontage      0\n",
      "LotArea          0\n",
      "OverallQual      0\n",
      "OverallCond      0\n",
      "YearBuilt        0\n",
      "YearRemodAdd     0\n",
      "MasVnrArea       0\n",
      "BsmtFinSF1       0\n",
      "BsmtFinSF2       0\n",
      "BsmtUnfSF        0\n",
      "TotalBsmtSF      0\n",
      "1stFlrSF         0\n",
      "2ndFlrSF         0\n",
      "LowQualFinSF     0\n",
      "GrLivArea        0\n",
      "BsmtFullBath     0\n",
      "BsmtHalfBath     0\n",
      "FullBath         0\n",
      "HalfBath         0\n",
      "BedroomAbvGr     0\n",
      "KitchenAbvGr     0\n",
      "TotRmsAbvGrd     0\n",
      "Fireplaces       0\n",
      "GarageYrBlt      0\n",
      "GarageCars       0\n",
      "GarageArea       0\n",
      "WoodDeckSF       0\n",
      "OpenPorchSF      0\n",
      "EnclosedPorch    0\n",
      "3SsnPorch        0\n",
      "ScreenPorch      0\n",
      "PoolArea         0\n",
      "MiscVal          0\n",
      "MoSold           0\n",
      "YrSold           0\n",
      "dtype: int64\n",
      "Number of colomns with nulls:  0\n"
     ]
    }
   ],
   "source": [
    "print('Number of colomns with nulls: ', check_nulls(df_non_obj))"
   ]
  },
  {
   "cell_type": "markdown",
   "metadata": {},
   "source": [
    "## Encode the skewed cols into log transform"
   ]
  },
  {
   "cell_type": "code",
   "execution_count": 17,
   "metadata": {
    "collapsed": false
   },
   "outputs": [
    {
     "name": "stdout",
     "output_type": "stream",
     "text": [
      "27 skewed numerical features to log transform\n"
     ]
    }
   ],
   "source": [
    "\n",
    "# Log transform of the skewed numerical features to lessen impact of outliers\n",
    "# Inspired by Alexandru Papiu's script : https://www.kaggle.com/apapiu/house-prices-advanced-regression-techniques/regularized-linear-models\n",
    "# As a general rule of thumb, a skewness with an absolute value > 0.5 is considered at least moderately skewed\n",
    "skewness = df_non_obj.apply(lambda x: skew(x))\n",
    "skewness = skewness[abs(skewness) > 0.5]\n",
    "print(str(skewness.shape[0]) + \" skewed numerical features to log transform\")\n",
    "skewed_features = skewness.index\n",
    "df_non_obj[skewed_features] = np.log1p(df_non_obj[skewed_features])"
   ]
  },
  {
   "cell_type": "markdown",
   "metadata": {},
   "source": [
    "## Now put the two transfroms together"
   ]
  },
  {
   "cell_type": "code",
   "execution_count": 18,
   "metadata": {
    "collapsed": false
   },
   "outputs": [],
   "source": [
    "df = pd.concat([df_non_obj, df_obj], axis=1)"
   ]
  },
  {
   "cell_type": "code",
   "execution_count": 19,
   "metadata": {
    "collapsed": false
   },
   "outputs": [
    {
     "data": {
      "text/plain": [
       "(2919, 80)"
      ]
     },
     "execution_count": 19,
     "metadata": {},
     "output_type": "execute_result"
    }
   ],
   "source": [
    "df.shape"
   ]
  },
  {
   "cell_type": "code",
   "execution_count": 20,
   "metadata": {
    "collapsed": false
   },
   "outputs": [
    {
     "name": "stdout",
     "output_type": "stream",
     "text": [
      "Id               0\n",
      "MSSubClass       0\n",
      "LotFrontage      0\n",
      "LotArea          0\n",
      "OverallQual      0\n",
      "OverallCond      0\n",
      "YearBuilt        0\n",
      "YearRemodAdd     0\n",
      "MasVnrArea       0\n",
      "BsmtFinSF1       0\n",
      "BsmtFinSF2       0\n",
      "BsmtUnfSF        0\n",
      "TotalBsmtSF      0\n",
      "1stFlrSF         0\n",
      "2ndFlrSF         0\n",
      "LowQualFinSF     0\n",
      "GrLivArea        0\n",
      "BsmtFullBath     0\n",
      "BsmtHalfBath     0\n",
      "FullBath         0\n",
      "HalfBath         0\n",
      "BedroomAbvGr     0\n",
      "KitchenAbvGr     0\n",
      "TotRmsAbvGrd     0\n",
      "Fireplaces       0\n",
      "GarageYrBlt      0\n",
      "GarageCars       0\n",
      "GarageArea       0\n",
      "WoodDeckSF       0\n",
      "OpenPorchSF      0\n",
      "                ..\n",
      "RoofStyle        0\n",
      "RoofMatl         0\n",
      "Exterior1st      0\n",
      "Exterior2nd      0\n",
      "MasVnrType       0\n",
      "ExterQual        0\n",
      "ExterCond        0\n",
      "Foundation       0\n",
      "BsmtQual         0\n",
      "BsmtCond         0\n",
      "BsmtExposure     0\n",
      "BsmtFinType1     0\n",
      "BsmtFinType2     0\n",
      "Heating          0\n",
      "HeatingQC        0\n",
      "CentralAir       0\n",
      "Electrical       0\n",
      "KitchenQual      0\n",
      "Functional       0\n",
      "FireplaceQu      0\n",
      "GarageType       0\n",
      "GarageFinish     0\n",
      "GarageQual       0\n",
      "GarageCond       0\n",
      "PavedDrive       0\n",
      "PoolQC           0\n",
      "Fence            0\n",
      "MiscFeature      0\n",
      "SaleType         0\n",
      "SaleCondition    0\n",
      "dtype: int64\n",
      "Number of colomns with nulls:  0\n"
     ]
    }
   ],
   "source": [
    "print('Number of colomns with nulls: ', check_nulls(df))"
   ]
  },
  {
   "cell_type": "markdown",
   "metadata": {},
   "source": [
    "# Handle categorial features via OHE"
   ]
  },
  {
   "cell_type": "code",
   "execution_count": 21,
   "metadata": {
    "collapsed": true
   },
   "outputs": [],
   "source": [
    "df = pd.get_dummies(df)"
   ]
  },
  {
   "cell_type": "code",
   "execution_count": 22,
   "metadata": {
    "collapsed": false
   },
   "outputs": [
    {
     "data": {
      "text/plain": [
       "(2919, 311)"
      ]
     },
     "execution_count": 22,
     "metadata": {},
     "output_type": "execute_result"
    }
   ],
   "source": [
    "df.shape"
   ]
  },
  {
   "cell_type": "markdown",
   "metadata": {},
   "source": [
    "# Why the number of colomns increased?"
   ]
  },
  {
   "cell_type": "code",
   "execution_count": 23,
   "metadata": {
    "collapsed": false
   },
   "outputs": [
    {
     "name": "stdout",
     "output_type": "stream",
     "text": [
      "Id\n",
      "MSSubClass\n",
      "MSZoning\n",
      "LotFrontage\n",
      "LotArea\n",
      "Street\n",
      "Alley\n",
      "LotShape\n",
      "LandContour\n",
      "Utilities\n",
      "LotConfig\n",
      "LandSlope\n",
      "Neighborhood\n",
      "Condition1\n",
      "Condition2\n",
      "BldgType\n",
      "HouseStyle\n",
      "OverallQual\n",
      "OverallCond\n",
      "YearBuilt\n",
      "YearRemodAdd\n",
      "RoofStyle\n",
      "RoofMatl\n",
      "Exterior1st\n",
      "Exterior2nd\n",
      "MasVnrType\n",
      "MasVnrArea\n",
      "ExterQual\n",
      "ExterCond\n",
      "Foundation\n",
      "BsmtQual\n",
      "BsmtCond\n",
      "BsmtExposure\n",
      "BsmtFinType1\n",
      "BsmtFinSF1\n",
      "BsmtFinType2\n",
      "BsmtFinSF2\n",
      "BsmtUnfSF\n",
      "TotalBsmtSF\n",
      "Heating\n",
      "HeatingQC\n",
      "CentralAir\n",
      "Electrical\n",
      "1stFlrSF\n",
      "2ndFlrSF\n",
      "LowQualFinSF\n",
      "GrLivArea\n",
      "BsmtFullBath\n",
      "BsmtHalfBath\n",
      "FullBath\n",
      "HalfBath\n",
      "BedroomAbvGr\n",
      "KitchenAbvGr\n",
      "KitchenQual\n",
      "TotRmsAbvGrd\n",
      "Functional\n",
      "Fireplaces\n",
      "FireplaceQu\n",
      "GarageType\n",
      "GarageYrBlt\n",
      "GarageFinish\n",
      "GarageCars\n",
      "GarageArea\n",
      "GarageQual\n",
      "GarageCond\n",
      "PavedDrive\n",
      "WoodDeckSF\n",
      "OpenPorchSF\n",
      "EnclosedPorch\n",
      "3SsnPorch\n",
      "ScreenPorch\n",
      "PoolArea\n",
      "PoolQC\n",
      "Fence\n",
      "MiscFeature\n",
      "MiscVal\n",
      "MoSold\n",
      "YrSold\n",
      "SaleType\n",
      "SaleCondition\n"
     ]
    }
   ],
   "source": [
    "for col in train_df.columns:\n",
    "    print(col)"
   ]
  },
  {
   "cell_type": "markdown",
   "metadata": {},
   "source": [
    "Because the categorial cols are now col per cat_value: PavedDrive --> PavedDrive_N, PavedDrive_P, PavedDrive_Y, each has only 1 or 0\n",
    "\n",
    "Note that: if you do the same after filling NA with None, you get more colmns due to the _None cat.\n",
    "    \n",
    "Another way to do it is: LableEncoder. But it only works for ordinal not categorial vars, o.w. higher values means higher importance."
   ]
  },
  {
   "cell_type": "code",
   "execution_count": 24,
   "metadata": {
    "collapsed": false
   },
   "outputs": [
    {
     "data": {
      "text/plain": [
       "Id                       float64\n",
       "MSSubClass               float64\n",
       "LotFrontage              float64\n",
       "LotArea                  float64\n",
       "OverallQual              float64\n",
       "OverallCond              float64\n",
       "YearBuilt                float64\n",
       "YearRemodAdd             float64\n",
       "MasVnrArea               float64\n",
       "BsmtFinSF1               float64\n",
       "BsmtFinSF2               float64\n",
       "BsmtUnfSF                float64\n",
       "TotalBsmtSF              float64\n",
       "1stFlrSF                 float64\n",
       "2ndFlrSF                 float64\n",
       "LowQualFinSF             float64\n",
       "GrLivArea                float64\n",
       "BsmtFullBath             float64\n",
       "BsmtHalfBath             float64\n",
       "FullBath                 float64\n",
       "HalfBath                 float64\n",
       "BedroomAbvGr             float64\n",
       "KitchenAbvGr             float64\n",
       "TotRmsAbvGrd             float64\n",
       "Fireplaces               float64\n",
       "GarageYrBlt              float64\n",
       "GarageCars               float64\n",
       "GarageArea               float64\n",
       "WoodDeckSF               float64\n",
       "OpenPorchSF              float64\n",
       "                          ...   \n",
       "PoolQC_Ex                float64\n",
       "PoolQC_Fa                float64\n",
       "PoolQC_Gd                float64\n",
       "PoolQC_None              float64\n",
       "Fence_GdPrv              float64\n",
       "Fence_GdWo               float64\n",
       "Fence_MnPrv              float64\n",
       "Fence_MnWw               float64\n",
       "Fence_None               float64\n",
       "MiscFeature_Gar2         float64\n",
       "MiscFeature_None         float64\n",
       "MiscFeature_Othr         float64\n",
       "MiscFeature_Shed         float64\n",
       "MiscFeature_TenC         float64\n",
       "SaleType_COD             float64\n",
       "SaleType_CWD             float64\n",
       "SaleType_Con             float64\n",
       "SaleType_ConLD           float64\n",
       "SaleType_ConLI           float64\n",
       "SaleType_ConLw           float64\n",
       "SaleType_New             float64\n",
       "SaleType_None            float64\n",
       "SaleType_Oth             float64\n",
       "SaleType_WD              float64\n",
       "SaleCondition_Abnorml    float64\n",
       "SaleCondition_AdjLand    float64\n",
       "SaleCondition_Alloca     float64\n",
       "SaleCondition_Family     float64\n",
       "SaleCondition_Normal     float64\n",
       "SaleCondition_Partial    float64\n",
       "dtype: object"
      ]
     },
     "execution_count": 24,
     "metadata": {},
     "output_type": "execute_result"
    }
   ],
   "source": [
    "df.dtypes # No objects"
   ]
  },
  {
   "cell_type": "markdown",
   "metadata": {},
   "source": [
    "# Target variable"
   ]
  },
  {
   "cell_type": "code",
   "execution_count": 25,
   "metadata": {
    "collapsed": false
   },
   "outputs": [],
   "source": [
    "# Log transform the target for official scoring\n",
    "y = np.log1p(y)\n"
   ]
  },
  {
   "cell_type": "markdown",
   "metadata": {},
   "source": [
    "# Train test split"
   ]
  },
  {
   "cell_type": "code",
   "execution_count": 26,
   "metadata": {
    "collapsed": true
   },
   "outputs": [],
   "source": [
    "X = df[:train_idx]"
   ]
  },
  {
   "cell_type": "markdown",
   "metadata": {},
   "source": [
    "### XGB is only working on nparray. So we use df.as_matrix()"
   ]
  },
  {
   "cell_type": "code",
   "execution_count": 27,
   "metadata": {
    "collapsed": true
   },
   "outputs": [],
   "source": [
    "X_train, X_val, Y_train, Y_val = train_test_split(X.as_matrix(), y.as_matrix(), test_size=0.25)"
   ]
  },
  {
   "cell_type": "code",
   "execution_count": 28,
   "metadata": {
    "collapsed": false
   },
   "outputs": [
    {
     "name": "stdout",
     "output_type": "stream",
     "text": [
      "(1460, 311)\n",
      "(1460,)\n",
      "(1095, 311)\n",
      "(1095,)\n",
      "(365, 311)\n",
      "(365,)\n"
     ]
    }
   ],
   "source": [
    "print(X.shape)\n",
    "print(y.shape)\n",
    "print(X_train.shape)\n",
    "print(Y_train.shape)\n",
    "print(X_val.shape)\n",
    "print(Y_val.shape)\n"
   ]
  },
  {
   "cell_type": "code",
   "execution_count": 29,
   "metadata": {
    "collapsed": false
   },
   "outputs": [
    {
     "name": "stdout",
     "output_type": "stream",
     "text": [
      "[0]\tvalidation_0-rmse:10.9379\n",
      "Will train until validation_0-rmse hasn't improved in 5 rounds.\n",
      "[1]\tvalidation_0-rmse:10.3912\n",
      "[2]\tvalidation_0-rmse:9.87175\n",
      "[3]\tvalidation_0-rmse:9.37833\n",
      "[4]\tvalidation_0-rmse:8.90961\n",
      "[5]\tvalidation_0-rmse:8.46435\n",
      "[6]\tvalidation_0-rmse:8.04132\n",
      "[7]\tvalidation_0-rmse:7.63942\n",
      "[8]\tvalidation_0-rmse:7.25762\n",
      "[9]\tvalidation_0-rmse:6.8949\n",
      "[10]\tvalidation_0-rmse:6.55162\n",
      "[11]\tvalidation_0-rmse:6.22426\n",
      "[12]\tvalidation_0-rmse:5.91432\n",
      "[13]\tvalidation_0-rmse:5.61913\n",
      "[14]\tvalidation_0-rmse:5.3396\n",
      "[15]\tvalidation_0-rmse:5.07296\n",
      "[16]\tvalidation_0-rmse:4.81985\n",
      "[17]\tvalidation_0-rmse:4.57947\n",
      "[18]\tvalidation_0-rmse:4.35045\n",
      "[19]\tvalidation_0-rmse:4.13417\n",
      "[20]\tvalidation_0-rmse:3.92778\n",
      "[21]\tvalidation_0-rmse:3.73255\n",
      "[22]\tvalidation_0-rmse:3.54628\n",
      "[23]\tvalidation_0-rmse:3.37025\n",
      "[24]\tvalidation_0-rmse:3.20242\n",
      "[25]\tvalidation_0-rmse:3.04308\n",
      "[26]\tvalidation_0-rmse:2.89131\n",
      "[27]\tvalidation_0-rmse:2.74748\n",
      "[28]\tvalidation_0-rmse:2.61134\n",
      "[29]\tvalidation_0-rmse:2.48141\n",
      "[30]\tvalidation_0-rmse:2.35833\n",
      "[31]\tvalidation_0-rmse:2.24185\n",
      "[32]\tvalidation_0-rmse:2.13081\n",
      "[33]\tvalidation_0-rmse:2.02484\n",
      "[34]\tvalidation_0-rmse:1.92438\n",
      "[35]\tvalidation_0-rmse:1.82886\n",
      "[36]\tvalidation_0-rmse:1.73842\n",
      "[37]\tvalidation_0-rmse:1.65244\n",
      "[38]\tvalidation_0-rmse:1.57086\n",
      "[39]\tvalidation_0-rmse:1.49355\n",
      "[40]\tvalidation_0-rmse:1.41993\n",
      "[41]\tvalidation_0-rmse:1.34971\n",
      "[42]\tvalidation_0-rmse:1.2832\n",
      "[43]\tvalidation_0-rmse:1.2203\n",
      "[44]\tvalidation_0-rmse:1.16037\n",
      "[45]\tvalidation_0-rmse:1.10385\n",
      "[46]\tvalidation_0-rmse:1.04978\n",
      "[47]\tvalidation_0-rmse:0.998366\n",
      "[48]\tvalidation_0-rmse:0.950202\n",
      "[49]\tvalidation_0-rmse:0.903897\n",
      "[50]\tvalidation_0-rmse:0.860399\n",
      "[51]\tvalidation_0-rmse:0.818642\n",
      "[52]\tvalidation_0-rmse:0.779223\n",
      "[53]\tvalidation_0-rmse:0.742255\n",
      "[54]\tvalidation_0-rmse:0.707092\n",
      "[55]\tvalidation_0-rmse:0.673351\n",
      "[56]\tvalidation_0-rmse:0.641999\n",
      "[57]\tvalidation_0-rmse:0.61183\n",
      "[58]\tvalidation_0-rmse:0.583369\n",
      "[59]\tvalidation_0-rmse:0.556375\n",
      "[60]\tvalidation_0-rmse:0.531041\n",
      "[61]\tvalidation_0-rmse:0.506516\n",
      "[62]\tvalidation_0-rmse:0.483567\n",
      "[63]\tvalidation_0-rmse:0.461979\n",
      "[64]\tvalidation_0-rmse:0.441409\n",
      "[65]\tvalidation_0-rmse:0.422236\n",
      "[66]\tvalidation_0-rmse:0.404023\n",
      "[67]\tvalidation_0-rmse:0.386795\n",
      "[68]\tvalidation_0-rmse:0.370814\n",
      "[69]\tvalidation_0-rmse:0.355374\n",
      "[70]\tvalidation_0-rmse:0.341188\n",
      "[71]\tvalidation_0-rmse:0.327302\n",
      "[72]\tvalidation_0-rmse:0.31498\n",
      "[73]\tvalidation_0-rmse:0.303143\n",
      "[74]\tvalidation_0-rmse:0.292271\n",
      "[75]\tvalidation_0-rmse:0.281873\n",
      "[76]\tvalidation_0-rmse:0.271655\n",
      "[77]\tvalidation_0-rmse:0.262422\n",
      "[78]\tvalidation_0-rmse:0.253648\n",
      "[79]\tvalidation_0-rmse:0.245293\n",
      "[80]\tvalidation_0-rmse:0.238035\n",
      "[81]\tvalidation_0-rmse:0.230983\n",
      "[82]\tvalidation_0-rmse:0.224312\n",
      "[83]\tvalidation_0-rmse:0.218229\n",
      "[84]\tvalidation_0-rmse:0.2127\n",
      "[85]\tvalidation_0-rmse:0.207481\n",
      "[86]\tvalidation_0-rmse:0.202532\n",
      "[87]\tvalidation_0-rmse:0.19829\n",
      "[88]\tvalidation_0-rmse:0.1942\n",
      "[89]\tvalidation_0-rmse:0.19041\n",
      "[90]\tvalidation_0-rmse:0.186915\n",
      "[91]\tvalidation_0-rmse:0.183632\n",
      "[92]\tvalidation_0-rmse:0.180696\n",
      "[93]\tvalidation_0-rmse:0.17801\n",
      "[94]\tvalidation_0-rmse:0.175448\n",
      "[95]\tvalidation_0-rmse:0.173256\n",
      "[96]\tvalidation_0-rmse:0.17105\n",
      "[97]\tvalidation_0-rmse:0.169085\n",
      "[98]\tvalidation_0-rmse:0.167491\n",
      "[99]\tvalidation_0-rmse:0.165815\n",
      "[100]\tvalidation_0-rmse:0.16434\n",
      "[101]\tvalidation_0-rmse:0.162843\n",
      "[102]\tvalidation_0-rmse:0.161386\n",
      "[103]\tvalidation_0-rmse:0.160016\n",
      "[104]\tvalidation_0-rmse:0.158633\n",
      "[105]\tvalidation_0-rmse:0.157627\n",
      "[106]\tvalidation_0-rmse:0.156779\n",
      "[107]\tvalidation_0-rmse:0.155876\n",
      "[108]\tvalidation_0-rmse:0.15537\n",
      "[109]\tvalidation_0-rmse:0.154441\n",
      "[110]\tvalidation_0-rmse:0.153612\n",
      "[111]\tvalidation_0-rmse:0.153071\n",
      "[112]\tvalidation_0-rmse:0.15233\n",
      "[113]\tvalidation_0-rmse:0.151506\n",
      "[114]\tvalidation_0-rmse:0.151191\n",
      "[115]\tvalidation_0-rmse:0.150746\n",
      "[116]\tvalidation_0-rmse:0.150531\n",
      "[117]\tvalidation_0-rmse:0.149959\n",
      "[118]\tvalidation_0-rmse:0.149536\n",
      "[119]\tvalidation_0-rmse:0.149177\n",
      "[120]\tvalidation_0-rmse:0.148716\n",
      "[121]\tvalidation_0-rmse:0.148461\n",
      "[122]\tvalidation_0-rmse:0.148101\n",
      "[123]\tvalidation_0-rmse:0.147911\n",
      "[124]\tvalidation_0-rmse:0.147422\n",
      "[125]\tvalidation_0-rmse:0.147373\n",
      "[126]\tvalidation_0-rmse:0.147123\n",
      "[127]\tvalidation_0-rmse:0.146892\n",
      "[128]\tvalidation_0-rmse:0.146662\n",
      "[129]\tvalidation_0-rmse:0.146612\n",
      "[130]\tvalidation_0-rmse:0.146478\n",
      "[131]\tvalidation_0-rmse:0.146094\n",
      "[132]\tvalidation_0-rmse:0.145968\n",
      "[133]\tvalidation_0-rmse:0.145965\n",
      "[134]\tvalidation_0-rmse:0.145693\n",
      "[135]\tvalidation_0-rmse:0.145448\n",
      "[136]\tvalidation_0-rmse:0.145291\n",
      "[137]\tvalidation_0-rmse:0.1451\n",
      "[138]\tvalidation_0-rmse:0.145014\n",
      "[139]\tvalidation_0-rmse:0.14495\n",
      "[140]\tvalidation_0-rmse:0.144756\n",
      "[141]\tvalidation_0-rmse:0.144729\n",
      "[142]\tvalidation_0-rmse:0.144564\n",
      "[143]\tvalidation_0-rmse:0.14435\n",
      "[144]\tvalidation_0-rmse:0.144294\n",
      "[145]\tvalidation_0-rmse:0.144071\n",
      "[146]\tvalidation_0-rmse:0.143877\n",
      "[147]\tvalidation_0-rmse:0.143765\n",
      "[148]\tvalidation_0-rmse:0.143617\n",
      "[149]\tvalidation_0-rmse:0.14359\n",
      "[150]\tvalidation_0-rmse:0.143613\n",
      "[151]\tvalidation_0-rmse:0.143563\n",
      "[152]\tvalidation_0-rmse:0.143563\n",
      "[153]\tvalidation_0-rmse:0.143374\n",
      "[154]\tvalidation_0-rmse:0.143234\n",
      "[155]\tvalidation_0-rmse:0.143099\n",
      "[156]\tvalidation_0-rmse:0.143005\n",
      "[157]\tvalidation_0-rmse:0.142844\n",
      "[158]\tvalidation_0-rmse:0.142836\n",
      "[159]\tvalidation_0-rmse:0.142653\n",
      "[160]\tvalidation_0-rmse:0.142482\n",
      "[161]\tvalidation_0-rmse:0.142468\n",
      "[162]\tvalidation_0-rmse:0.142466\n",
      "[163]\tvalidation_0-rmse:0.142402\n",
      "[164]\tvalidation_0-rmse:0.142397\n",
      "[165]\tvalidation_0-rmse:0.142357\n",
      "[166]\tvalidation_0-rmse:0.142149\n",
      "[167]\tvalidation_0-rmse:0.142164\n",
      "[168]\tvalidation_0-rmse:0.142114\n",
      "[169]\tvalidation_0-rmse:0.142054\n",
      "[170]\tvalidation_0-rmse:0.141933\n",
      "[171]\tvalidation_0-rmse:0.1418\n",
      "[172]\tvalidation_0-rmse:0.141756\n",
      "[173]\tvalidation_0-rmse:0.141679\n",
      "[174]\tvalidation_0-rmse:0.141667\n",
      "[175]\tvalidation_0-rmse:0.141564\n",
      "[176]\tvalidation_0-rmse:0.141441\n",
      "[177]\tvalidation_0-rmse:0.141419\n",
      "[178]\tvalidation_0-rmse:0.14142\n",
      "[179]\tvalidation_0-rmse:0.141339\n",
      "[180]\tvalidation_0-rmse:0.14138\n",
      "[181]\tvalidation_0-rmse:0.14135\n",
      "[182]\tvalidation_0-rmse:0.141374\n",
      "[183]\tvalidation_0-rmse:0.141378\n",
      "[184]\tvalidation_0-rmse:0.141318\n",
      "[185]\tvalidation_0-rmse:0.141267\n",
      "[186]\tvalidation_0-rmse:0.141144\n",
      "[187]\tvalidation_0-rmse:0.141004\n",
      "[188]\tvalidation_0-rmse:0.140895\n",
      "[189]\tvalidation_0-rmse:0.14085\n",
      "[190]\tvalidation_0-rmse:0.140767\n",
      "[191]\tvalidation_0-rmse:0.140769\n",
      "[192]\tvalidation_0-rmse:0.140763\n",
      "[193]\tvalidation_0-rmse:0.14059\n",
      "[194]\tvalidation_0-rmse:0.140499\n",
      "[195]\tvalidation_0-rmse:0.140473\n",
      "[196]\tvalidation_0-rmse:0.140414\n",
      "[197]\tvalidation_0-rmse:0.140441\n",
      "[198]\tvalidation_0-rmse:0.140412\n",
      "[199]\tvalidation_0-rmse:0.140414\n",
      "[200]\tvalidation_0-rmse:0.140454\n",
      "[201]\tvalidation_0-rmse:0.140433\n",
      "[202]\tvalidation_0-rmse:0.140398\n",
      "[203]\tvalidation_0-rmse:0.140413\n",
      "[204]\tvalidation_0-rmse:0.140323\n",
      "[205]\tvalidation_0-rmse:0.140282\n",
      "[206]\tvalidation_0-rmse:0.140281\n",
      "[207]\tvalidation_0-rmse:0.140317\n",
      "[208]\tvalidation_0-rmse:0.140304\n",
      "[209]\tvalidation_0-rmse:0.140321\n",
      "[210]\tvalidation_0-rmse:0.140371\n",
      "[211]\tvalidation_0-rmse:0.140279\n",
      "[212]\tvalidation_0-rmse:0.140311\n",
      "[213]\tvalidation_0-rmse:0.14022\n",
      "[214]\tvalidation_0-rmse:0.140087\n",
      "[215]\tvalidation_0-rmse:0.140018\n",
      "[216]\tvalidation_0-rmse:0.140024\n",
      "[217]\tvalidation_0-rmse:0.140039\n",
      "[218]\tvalidation_0-rmse:0.13997\n",
      "[219]\tvalidation_0-rmse:0.139813\n",
      "[220]\tvalidation_0-rmse:0.139835\n",
      "[221]\tvalidation_0-rmse:0.139731\n",
      "[222]\tvalidation_0-rmse:0.139714\n",
      "[223]\tvalidation_0-rmse:0.139649\n",
      "[224]\tvalidation_0-rmse:0.139598\n",
      "[225]\tvalidation_0-rmse:0.139624\n",
      "[226]\tvalidation_0-rmse:0.13957\n",
      "[227]\tvalidation_0-rmse:0.139547\n",
      "[228]\tvalidation_0-rmse:0.139533\n",
      "[229]\tvalidation_0-rmse:0.139579\n",
      "[230]\tvalidation_0-rmse:0.139585\n",
      "[231]\tvalidation_0-rmse:0.139594\n",
      "[232]\tvalidation_0-rmse:0.13956\n",
      "[233]\tvalidation_0-rmse:0.139573\n",
      "Stopping. Best iteration:\n",
      "[228]\tvalidation_0-rmse:0.139533\n",
      "\n"
     ]
    },
    {
     "data": {
      "text/plain": [
       "XGBRegressor(base_score=0.5, colsample_bylevel=1, colsample_bytree=1, gamma=0,\n",
       "       learning_rate=0.05, max_delta_step=0, max_depth=3,\n",
       "       min_child_weight=1, missing=None, n_estimators=1000, nthread=-1,\n",
       "       objective='reg:linear', reg_alpha=0, reg_lambda=1,\n",
       "       scale_pos_weight=1, seed=0, silent=True, subsample=1)"
      ]
     },
     "execution_count": 29,
     "metadata": {},
     "output_type": "execute_result"
    }
   ],
   "source": [
    "\n",
    "\n",
    "XGB = XGBRegressor(n_estimators=1000, learning_rate=0.05)\n",
    "# Add silent=True to avoid printing out updates with each cycle\n",
    "XGB.fit(X_train, Y_train, eval_set=[(X_val, Y_val)], verbose=True, early_stopping_rounds=5)"
   ]
  },
  {
   "cell_type": "code",
   "execution_count": 31,
   "metadata": {
    "collapsed": false
   },
   "outputs": [
    {
     "name": "stdout",
     "output_type": "stream",
     "text": [
      "Mean Absolute Error : 0.0883746980963\n",
      "Mean Squared Error : 0.0194805586622\n",
      "Root Mean Squared Error : 0.139572771923\n"
     ]
    }
   ],
   "source": [
    "# make predictions\n",
    "predictions = XGB.predict(X_val)\n",
    "\n",
    "\n",
    "print(\"Mean Absolute Error : \" + str(mean_absolute_error(predictions, Y_val)))\n",
    "print(\"Mean Squared Error : \" + str(mean_squared_error(predictions, Y_val)))\n",
    "print(\"Root Mean Squared Error : \" + str(np.sqrt(mean_squared_error(predictions, Y_val))))"
   ]
  },
  {
   "cell_type": "code",
   "execution_count": 34,
   "metadata": {
    "collapsed": false
   },
   "outputs": [
    {
     "data": {
      "text/plain": [
       "array([ 153000.,  139000.,  233000.,  212000.,  102000.,  325000.,\n",
       "        228000.,  119000.,  165000.,  169500.,  162000.,  174000.,\n",
       "        122900.,  126500.,  153500.,  345000.,  150000.,  223500.,\n",
       "        241000.,  135000.,  124000.,  205000.,  134500.,  252000.,\n",
       "        150750.,  147000.,  121000.,  200141.,  105000.,  135000.,\n",
       "        262500.,  115000.,  154900.,  127500.,  244400.,  136905.,\n",
       "        262500.,  123000.,  162000.,  164000.,  195000.,  239000.,\n",
       "        210000.,  105000.,   91500.,  115000.,  165000.,  164990.,\n",
       "        205000.,  129900.,  145000.,  151000.,  157000.,  235000.,\n",
       "        230000.,  129000.,  367294.,  174000.,  162900.,  107500.,\n",
       "        340000.,   98000.,  187500.,   40000.,   62383.,   99500.,\n",
       "        185000.,  144152.,  110000.,  114500.,  301500.,  178000.,\n",
       "        207500.,  263435.,  120000.,  149000.,  190000.,  155000.,\n",
       "         88000.,  280000.,  169900.,  200000.,  185000.,  196000.,\n",
       "        189000.,  143250.,  134900.,  374000.,  122000.,  100000.,\n",
       "        176000.,   88000.,  194201.,  193000.,  135750.,   85000.,\n",
       "        180500.,  135960.,  194000.,  306000.,  359100.,  139000.,\n",
       "        252678.,  152000.,  625000.,   96500.,  120000.,  139600.,\n",
       "         84000.,  173500.,  116000.,  180000.,  120000.,  143000.,\n",
       "        175900.,  116500.,  220000.,   89000.,  143000.,  163000.,\n",
       "        127500.,  100000.,  280000.,  125500.,  109900.,  125000.,\n",
       "        269790.,  328000.,  295000.,   88000.,  104900.,  102000.,\n",
       "        224900.,  394617.,  222000.,  229456.,  290000.,  107900.,\n",
       "        108000.,  236000.,  185850.,  200000.,  169500.,  139000.,\n",
       "        144000.,  190000.,  189000.,  230500.,  403000.,  132000.,\n",
       "        145000.,  305900.,  189000.,  189000.,  190000.,  107000.,\n",
       "        163000.,  206300.,   79000.,  466500.,  241500.,  402000.,\n",
       "        153000.,  193500.,   97000.,  134000.,  155000.,  555000.,\n",
       "        415298.,  299800.,  180500.,  164700.,  140000.,  115000.,\n",
       "        244000.,  190000.,  148500.,  106500.,  185000.,  137500.,\n",
       "         55000.,  239000.,  170000.,  381000.,  184900.,   89471.,\n",
       "        147000.,  122000.,   35311.,  169000.,  176000.,  266000.,\n",
       "        141000.,  227000.,  132500.,  230000.,   80000.,  118000.,\n",
       "        131000.,  120000.,  109000.,  277500.,  161000.,  145000.,\n",
       "        125000.,  156000.,  157900.,  231500.,  126000.,  140000.,\n",
       "        229000.,  139000.,  178900.,  176485.,  158000.,  107000.,\n",
       "        392000.,  110500.,  135000.,  162000.,  285000.,  102000.,\n",
       "        239900.,  157900.,  611657.,  100000.,  128000.,  319000.,\n",
       "        130000.,  128000.,  115000.,  239000.,  173000.,  172500.,\n",
       "        164900.,   82500.,  180500.,   92900.,   97500.,   76000.,\n",
       "        136500.,  157000.,  117000.,  317000.,  106500.,  147500.,\n",
       "        203000.,  147400.,   88000.,  251000.,  145500.,  137000.,\n",
       "         96500.,  191000.,  187000.,  275000.,  151500.,  127000.,\n",
       "        172500.,  224500.,  116000.,  139000.,  144000.,  112000.,\n",
       "        342643.,  446261.,  245500.,  227000.,  131500.,  140000.,\n",
       "        149000.,  281213.,   60000.,   73000.,  290000.,   72500.,\n",
       "        119000.,  200624.,  213500.,  172500.,  225000.,  114504.,\n",
       "        201000.,  110000.,  255000.,  179900.,  130000.,  168500.,\n",
       "         90000.,  281000.,  360000.,  140000.,  135000.,  174000.,\n",
       "        118000.,  107500.,  149000.,  202500.,  102776.,  220000.,\n",
       "        181000.,   87000.,   89500.,  220000.,  185750.,   52500.,\n",
       "        184750.,  395192.,  424870.,  213000.,   80000.,  132500.,\n",
       "        145000.,  159000.,  212900.,  129000.,  131500.,  220000.,\n",
       "        145900.,  179400.,  215000.,  157000.,  132000.,   95000.,\n",
       "        259500.,  145000.,  121500.,   91300.,  254000.,  303477.,\n",
       "        108480.,  311872.,  320000.,  157000.,  260000.,  239000.,\n",
       "        221500.,  145000.,  127500.,  119500.,  135000.,  115000.,\n",
       "        126000.,  187500.,  325000.,  157500.,  154000.,  189000.,\n",
       "        214000.,  154000.,  165400.,  143500.,   82500.,  186000.,\n",
       "        182900.,  237000.,  475000.,  174900.,  119000.,  176500.,\n",
       "        155000.,   90350.,  135000.,  179900.,  185000.])"
      ]
     },
     "execution_count": 34,
     "metadata": {},
     "output_type": "execute_result"
    }
   ],
   "source": [
    "np.expm1(Y_val)"
   ]
  },
  {
   "cell_type": "code",
   "execution_count": 35,
   "metadata": {
    "collapsed": false
   },
   "outputs": [
    {
     "data": {
      "text/plain": [
       "array([ 161406.859375  ,  124507.4765625 ,  220670.609375  ,\n",
       "        218766.109375  ,  121774.8203125 ,  319656.0625    ,\n",
       "        244917.53125   ,  122480.1640625 ,  170164.546875  ,\n",
       "        146723.890625  ,  162745.5625    ,  182114.125     ,\n",
       "        122485.7734375 ,  123490.1328125 ,  146401.15625   ,\n",
       "        362012.78125   ,  155667.859375  ,  210801.203125  ,\n",
       "        204291.15625   ,  169852.28125   ,  125285.875     ,\n",
       "        214802.34375   ,  136618.625     ,  268526.75      ,\n",
       "        145214.890625  ,  136876.984375  ,  102133.7265625 ,\n",
       "        194374.5625    ,  104392.1796875 ,  148093.984375  ,\n",
       "        256870.015625  ,  115379.3828125 ,  121299.828125  ,\n",
       "        125828.78125   ,  199712.75      ,  151973.78125   ,\n",
       "        264406.71875   ,  111539.3671875 ,  156095.703125  ,\n",
       "        163756.453125  ,  193317.3125    ,  267039.6875    ,\n",
       "        222028.59375   ,  102711.0078125 ,  105135.0234375 ,\n",
       "        114917.6171875 ,  160734.65625   ,  192488.90625   ,\n",
       "        236514.90625   ,  128073.2578125 ,  121501.6328125 ,\n",
       "        155870.625     ,  160239.375     ,  274921.1875    ,\n",
       "        230396.828125  ,  124166.328125  ,  346815.71875   ,\n",
       "        213105.9375    ,  186421.484375  ,  110657.84375   ,\n",
       "        318572.9375    ,   97389.7421875 ,  203690.796875  ,\n",
       "         83137.03125   ,  124830.3984375 ,  123702.5390625 ,\n",
       "        171342.71875   ,  145162.828125  ,  112384.6015625 ,\n",
       "        120526.203125  ,  333947.28125   ,  186628.359375  ,\n",
       "        215384.09375   ,  239221.640625  ,  142232.296875  ,\n",
       "        128800.7109375 ,  224355.703125  ,  155007.28125   ,\n",
       "        101881.765625  ,  303574.71875   ,  148188.078125  ,\n",
       "        195716.8125    ,  199747.984375  ,  203157.296875  ,\n",
       "        202941.765625  ,  136426.203125  ,  137639.46875   ,\n",
       "        326760.3125    ,  148780.984375  ,   89650.1015625 ,\n",
       "        162828.625     ,   89203.9765625 ,  204686.25      ,\n",
       "        200141.75      ,  116881.9375    ,   74640.7421875 ,\n",
       "        168520.1875    ,  144602.8125    ,  190414.59375   ,\n",
       "        309173.65625   ,  297983.6875    ,  118137.7421875 ,\n",
       "        240577.65625   ,  146294.109375  ,  559617.8125    ,\n",
       "         85712.9921875 ,  112544.5234375 ,  139706.90625   ,\n",
       "         87196.8203125 ,  165582.203125  ,  120552.4140625 ,\n",
       "        165654.21875   ,  122862.25      ,  154986.15625   ,\n",
       "        166646.46875   ,  119945.0703125 ,  225741.734375  ,\n",
       "         90337.5625    ,  142727.984375  ,  170778.109375  ,\n",
       "        160553.71875   ,  109649.3515625 ,  269850.65625   ,\n",
       "        101758.1484375 ,  128914.625     ,  129786.03125   ,\n",
       "        243586.296875  ,  285271.78125   ,  326912.09375   ,\n",
       "         90010.6875    ,  126439.3828125 ,  114975.1640625 ,\n",
       "        202322.796875  ,  363415.78125   ,  224228.421875  ,\n",
       "        232426.078125  ,  300160.46875   ,  109662.4296875 ,\n",
       "        121451.8125    ,  234022.171875  ,  199964.703125  ,\n",
       "        166462.84375   ,  158738.296875  ,  126375.484375  ,\n",
       "        141319.90625   ,  180850.671875  ,  193369.671875  ,\n",
       "        260490.984375  ,  363086.34375   ,  142692.1875    ,\n",
       "        146369.328125  ,  296568.15625   ,  167460.71875   ,\n",
       "        186982.        ,  196237.328125  ,  140149.140625  ,\n",
       "        154855.25      ,  196267.078125  ,   91503.7109375 ,\n",
       "        385157.46875   ,  225514.9375    ,  378823.96875   ,\n",
       "        168464.59375   ,  215009.546875  ,  108018.0703125 ,\n",
       "        144717.046875  ,  142688.109375  ,  419252.03125   ,\n",
       "        368223.90625   ,  315009.8125    ,  163800.65625   ,\n",
       "        164822.96875   ,  193746.0625    ,  117993.171875  ,\n",
       "        260506.140625  ,  205145.890625  ,  137039.203125  ,\n",
       "        102853.4296875 ,  157662.734375  ,  112557.296875  ,\n",
       "         57691.3125    ,  215014.265625  ,  148055.296875  ,\n",
       "        340914.        ,  189472.640625  ,  111073.3671875 ,\n",
       "        123571.890625  ,  138856.125     ,   51755.89453125,\n",
       "        171636.28125   ,  172102.9375    ,  261757.796875  ,\n",
       "        150549.5625    ,  214311.265625  ,  129293.6015625 ,\n",
       "        227178.796875  ,  101812.3203125 ,  119559.625     ,\n",
       "        132376.65625   ,  103273.421875  ,  101653.203125  ,\n",
       "        286872.40625   ,  156001.203125  ,  143182.921875  ,\n",
       "        124415.7265625 ,  148236.5625    ,  153228.703125  ,\n",
       "        187238.78125   ,  138913.875     ,  150966.796875  ,\n",
       "        243886.15625   ,  118781.9140625 ,  175659.640625  ,\n",
       "        187239.484375  ,  155630.15625   ,   88850.5234375 ,\n",
       "        231510.65625   ,   98774.7578125 ,  126208.1953125 ,\n",
       "        163740.984375  ,  318459.625     ,  101131.046875  ,\n",
       "        243962.6875    ,  134361.5625    ,  423105.625     ,\n",
       "         93697.7109375 ,  135050.65625   ,  337451.28125   ,\n",
       "        154973.734375  ,  125487.        ,  128349.34375   ,\n",
       "        257855.21875   ,  180447.015625  ,  169328.578125  ,\n",
       "        140668.703125  ,  111385.65625   ,  159945.171875  ,\n",
       "         90747.8125    ,  132555.53125   ,   86339.375     ,\n",
       "        130881.453125  ,  158482.515625  ,  126384.5234375 ,\n",
       "        303846.71875   ,   90580.9296875 ,  146219.484375  ,\n",
       "        203332.515625  ,  152354.421875  ,  101128.828125  ,\n",
       "        250866.        ,  144965.953125  ,  140304.8125    ,\n",
       "         90975.8828125 ,  195363.0625    ,  196963.484375  ,\n",
       "        240170.765625  ,  144688.203125  ,  148822.421875  ,\n",
       "        203478.78125   ,  216944.453125  ,  123168.6875    ,\n",
       "        140102.109375  ,  145478.390625  ,  132768.96875   ,\n",
       "        336718.96875   ,  414121.09375   ,  238426.53125   ,\n",
       "        245147.46875   ,  142306.515625  ,  157770.421875  ,\n",
       "        152182.484375  ,  293929.28125   ,  112711.65625   ,\n",
       "         95325.859375  ,  305800.8125    ,   70906.28125   ,\n",
       "        112265.6953125 ,  233275.703125  ,  199427.078125  ,\n",
       "        168113.578125  ,  223042.1875    ,  112477.9921875 ,\n",
       "        215199.921875  ,  133615.0625    ,  265649.        ,\n",
       "        202792.796875  ,  126660.484375  ,  154987.328125  ,\n",
       "        107464.25      ,  274686.875     ,  374554.09375   ,\n",
       "        147953.375     ,  137864.78125   ,  180082.90625   ,\n",
       "        117960.3203125 ,  133806.984375  ,  149032.484375  ,\n",
       "        211559.875     ,   83978.2890625 ,  236422.890625  ,\n",
       "        174084.65625   ,   91943.4453125 ,   94323.875     ,\n",
       "        229245.0625    ,  173412.734375  ,   67243.7734375 ,\n",
       "        587830.125     ,  380555.1875    ,  400631.09375   ,\n",
       "        205408.03125   ,   86610.375     ,  136759.15625   ,\n",
       "        148784.8125    ,  156817.28125   ,  213694.90625   ,\n",
       "        129836.046875  ,  128712.0546875 ,  195771.515625  ,\n",
       "        164199.484375  ,  177010.6875    ,  213537.640625  ,\n",
       "        150134.625     ,  135718.953125  ,  110805.3671875 ,\n",
       "        208863.328125  ,  130550.3515625 ,  160451.3125    ,\n",
       "         98452.0859375 ,  216520.3125    ,  318045.9375    ,\n",
       "        100812.3125    ,  292658.84375   ,  304966.40625   ,\n",
       "        165617.265625  ,  248593.71875   ,  202568.96875   ,\n",
       "        219951.        ,  141735.75      ,  124456.671875  ,\n",
       "        115482.53125   ,  165443.453125  ,  115140.4140625 ,\n",
       "        137215.09375   ,  183074.3125    ,  319246.3125    ,\n",
       "        178291.171875  ,  144953.234375  ,  200288.59375   ,\n",
       "        215652.3125    ,  156153.625     ,  193932.21875   ,\n",
       "        149469.59375   ,   75293.703125  ,  169010.921875  ,\n",
       "        178821.78125   ,  268348.0625    ,  338171.        ,\n",
       "        151976.109375  ,  124021.2421875 ,  189056.953125  ,\n",
       "        144426.8125    ,  103054.3203125 ,  132575.125     ,\n",
       "        152092.09375   ,  190601.359375  ], dtype=float32)"
      ]
     },
     "execution_count": 35,
     "metadata": {},
     "output_type": "execute_result"
    }
   ],
   "source": [
    "np.expm1(predictions)"
   ]
  },
  {
   "cell_type": "markdown",
   "metadata": {},
   "source": [
    "# Submit"
   ]
  },
  {
   "cell_type": "code",
   "execution_count": 36,
   "metadata": {
    "collapsed": true
   },
   "outputs": [],
   "source": [
    "X_test = df[train_idx:]"
   ]
  },
  {
   "cell_type": "code",
   "execution_count": 37,
   "metadata": {
    "collapsed": false
   },
   "outputs": [
    {
     "data": {
      "text/plain": [
       "(1459, 311)"
      ]
     },
     "execution_count": 37,
     "metadata": {},
     "output_type": "execute_result"
    }
   ],
   "source": [
    "X_test.shape"
   ]
  },
  {
   "cell_type": "code",
   "execution_count": 42,
   "metadata": {
    "collapsed": false
   },
   "outputs": [],
   "source": [
    "predictions = XGB.predict(X_test.as_matrix())"
   ]
  },
  {
   "cell_type": "code",
   "execution_count": 46,
   "metadata": {
    "collapsed": false
   },
   "outputs": [],
   "source": [
    "predicted_prices = np.expm1(predictions)"
   ]
  },
  {
   "cell_type": "code",
   "execution_count": 48,
   "metadata": {
    "collapsed": false
   },
   "outputs": [],
   "source": [
    "my_submission = pd.DataFrame({'Id': test_df.Id, 'SalePrice': predicted_prices})\n",
    "# you could use any filename. We choose submission here\n",
    "my_submission.to_csv('submission.csv', index=False)\n",
    "\n",
    "\n"
   ]
  }
 ],
 "metadata": {
  "anaconda-cloud": {},
  "kernelspec": {
   "display_name": "Python [conda root]",
   "language": "python",
   "name": "conda-root-py"
  },
  "language_info": {
   "codemirror_mode": {
    "name": "ipython",
    "version": 3
   },
   "file_extension": ".py",
   "mimetype": "text/x-python",
   "name": "python",
   "nbconvert_exporter": "python",
   "pygments_lexer": "ipython3",
   "version": "3.5.2"
  }
 },
 "nbformat": 4,
 "nbformat_minor": 1
}
