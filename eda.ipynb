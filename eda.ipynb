{
 "cells": [
  {
   "cell_type": "code",
   "execution_count": 1,
   "metadata": {
    "collapsed": true
   },
   "outputs": [],
   "source": [
    "import pandas as pd\n",
    "import numpy as np\n",
    "from sklearn.preprocessing import Imputer\n",
    "from scipy.stats import skew\n",
    "%matplotlib inline"
   ]
  },
  {
   "cell_type": "markdown",
   "metadata": {},
   "source": [
    "# Data load"
   ]
  },
  {
   "cell_type": "code",
   "execution_count": 2,
   "metadata": {
    "collapsed": false
   },
   "outputs": [
    {
     "name": "stdout",
     "output_type": "stream",
     "text": [
      "(1460, 81)\n"
     ]
    },
    {
     "data": {
      "text/html": [
       "<div>\n",
       "<table border=\"1\" class=\"dataframe\">\n",
       "  <thead>\n",
       "    <tr style=\"text-align: right;\">\n",
       "      <th></th>\n",
       "      <th>Id</th>\n",
       "      <th>MSSubClass</th>\n",
       "      <th>MSZoning</th>\n",
       "      <th>LotFrontage</th>\n",
       "      <th>LotArea</th>\n",
       "      <th>Street</th>\n",
       "      <th>Alley</th>\n",
       "      <th>LotShape</th>\n",
       "      <th>LandContour</th>\n",
       "      <th>Utilities</th>\n",
       "      <th>...</th>\n",
       "      <th>PoolArea</th>\n",
       "      <th>PoolQC</th>\n",
       "      <th>Fence</th>\n",
       "      <th>MiscFeature</th>\n",
       "      <th>MiscVal</th>\n",
       "      <th>MoSold</th>\n",
       "      <th>YrSold</th>\n",
       "      <th>SaleType</th>\n",
       "      <th>SaleCondition</th>\n",
       "      <th>SalePrice</th>\n",
       "    </tr>\n",
       "  </thead>\n",
       "  <tbody>\n",
       "    <tr>\n",
       "      <th>0</th>\n",
       "      <td>1</td>\n",
       "      <td>60</td>\n",
       "      <td>RL</td>\n",
       "      <td>65.0</td>\n",
       "      <td>8450</td>\n",
       "      <td>Pave</td>\n",
       "      <td>NaN</td>\n",
       "      <td>Reg</td>\n",
       "      <td>Lvl</td>\n",
       "      <td>AllPub</td>\n",
       "      <td>...</td>\n",
       "      <td>0</td>\n",
       "      <td>NaN</td>\n",
       "      <td>NaN</td>\n",
       "      <td>NaN</td>\n",
       "      <td>0</td>\n",
       "      <td>2</td>\n",
       "      <td>2008</td>\n",
       "      <td>WD</td>\n",
       "      <td>Normal</td>\n",
       "      <td>208500</td>\n",
       "    </tr>\n",
       "    <tr>\n",
       "      <th>1</th>\n",
       "      <td>2</td>\n",
       "      <td>20</td>\n",
       "      <td>RL</td>\n",
       "      <td>80.0</td>\n",
       "      <td>9600</td>\n",
       "      <td>Pave</td>\n",
       "      <td>NaN</td>\n",
       "      <td>Reg</td>\n",
       "      <td>Lvl</td>\n",
       "      <td>AllPub</td>\n",
       "      <td>...</td>\n",
       "      <td>0</td>\n",
       "      <td>NaN</td>\n",
       "      <td>NaN</td>\n",
       "      <td>NaN</td>\n",
       "      <td>0</td>\n",
       "      <td>5</td>\n",
       "      <td>2007</td>\n",
       "      <td>WD</td>\n",
       "      <td>Normal</td>\n",
       "      <td>181500</td>\n",
       "    </tr>\n",
       "    <tr>\n",
       "      <th>2</th>\n",
       "      <td>3</td>\n",
       "      <td>60</td>\n",
       "      <td>RL</td>\n",
       "      <td>68.0</td>\n",
       "      <td>11250</td>\n",
       "      <td>Pave</td>\n",
       "      <td>NaN</td>\n",
       "      <td>IR1</td>\n",
       "      <td>Lvl</td>\n",
       "      <td>AllPub</td>\n",
       "      <td>...</td>\n",
       "      <td>0</td>\n",
       "      <td>NaN</td>\n",
       "      <td>NaN</td>\n",
       "      <td>NaN</td>\n",
       "      <td>0</td>\n",
       "      <td>9</td>\n",
       "      <td>2008</td>\n",
       "      <td>WD</td>\n",
       "      <td>Normal</td>\n",
       "      <td>223500</td>\n",
       "    </tr>\n",
       "  </tbody>\n",
       "</table>\n",
       "<p>3 rows × 81 columns</p>\n",
       "</div>"
      ],
      "text/plain": [
       "   Id  MSSubClass MSZoning  LotFrontage  LotArea Street Alley LotShape  \\\n",
       "0   1          60       RL         65.0     8450   Pave   NaN      Reg   \n",
       "1   2          20       RL         80.0     9600   Pave   NaN      Reg   \n",
       "2   3          60       RL         68.0    11250   Pave   NaN      IR1   \n",
       "\n",
       "  LandContour Utilities    ...     PoolArea PoolQC Fence MiscFeature MiscVal  \\\n",
       "0         Lvl    AllPub    ...            0    NaN   NaN         NaN       0   \n",
       "1         Lvl    AllPub    ...            0    NaN   NaN         NaN       0   \n",
       "2         Lvl    AllPub    ...            0    NaN   NaN         NaN       0   \n",
       "\n",
       "  MoSold YrSold  SaleType  SaleCondition  SalePrice  \n",
       "0      2   2008        WD         Normal     208500  \n",
       "1      5   2007        WD         Normal     181500  \n",
       "2      9   2008        WD         Normal     223500  \n",
       "\n",
       "[3 rows x 81 columns]"
      ]
     },
     "execution_count": 2,
     "metadata": {},
     "output_type": "execute_result"
    }
   ],
   "source": [
    "train_df = pd.read_csv('../dat/train.csv')\n",
    "print(train_df.shape)\n",
    "train_df.head(3)"
   ]
  },
  {
   "cell_type": "code",
   "execution_count": 3,
   "metadata": {
    "collapsed": false
   },
   "outputs": [
    {
     "data": {
      "text/plain": [
       "Index(['Id', 'MSSubClass', 'MSZoning', 'LotFrontage', 'LotArea', 'Street',\n",
       "       'Alley', 'LotShape', 'LandContour', 'Utilities', 'LotConfig',\n",
       "       'LandSlope', 'Neighborhood', 'Condition1', 'Condition2', 'BldgType',\n",
       "       'HouseStyle', 'OverallQual', 'OverallCond', 'YearBuilt', 'YearRemodAdd',\n",
       "       'RoofStyle', 'RoofMatl', 'Exterior1st', 'Exterior2nd', 'MasVnrType',\n",
       "       'MasVnrArea', 'ExterQual', 'ExterCond', 'Foundation', 'BsmtQual',\n",
       "       'BsmtCond', 'BsmtExposure', 'BsmtFinType1', 'BsmtFinSF1',\n",
       "       'BsmtFinType2', 'BsmtFinSF2', 'BsmtUnfSF', 'TotalBsmtSF', 'Heating',\n",
       "       'HeatingQC', 'CentralAir', 'Electrical', '1stFlrSF', '2ndFlrSF',\n",
       "       'LowQualFinSF', 'GrLivArea', 'BsmtFullBath', 'BsmtHalfBath', 'FullBath',\n",
       "       'HalfBath', 'BedroomAbvGr', 'KitchenAbvGr', 'KitchenQual',\n",
       "       'TotRmsAbvGrd', 'Functional', 'Fireplaces', 'FireplaceQu', 'GarageType',\n",
       "       'GarageYrBlt', 'GarageFinish', 'GarageCars', 'GarageArea', 'GarageQual',\n",
       "       'GarageCond', 'PavedDrive', 'WoodDeckSF', 'OpenPorchSF',\n",
       "       'EnclosedPorch', '3SsnPorch', 'ScreenPorch', 'PoolArea', 'PoolQC',\n",
       "       'Fence', 'MiscFeature', 'MiscVal', 'MoSold', 'YrSold', 'SaleType',\n",
       "       'SaleCondition', 'SalePrice'],\n",
       "      dtype='object')"
      ]
     },
     "execution_count": 3,
     "metadata": {},
     "output_type": "execute_result"
    }
   ],
   "source": [
    "train_df.columns"
   ]
  },
  {
   "cell_type": "markdown",
   "metadata": {},
   "source": [
    "# Missing Vals"
   ]
  },
  {
   "cell_type": "code",
   "execution_count": 4,
   "metadata": {
    "collapsed": true
   },
   "outputs": [],
   "source": [
    "# Number of colomns with nulls\n",
    "def check_nulls(df):\n",
    "    return len(df.isnull().sum().nonzero()[0])"
   ]
  },
  {
   "cell_type": "code",
   "execution_count": 5,
   "metadata": {
    "collapsed": false
   },
   "outputs": [
    {
     "name": "stdout",
     "output_type": "stream",
     "text": [
      "Number of colomns with nulls:  19\n"
     ]
    }
   ],
   "source": [
    "print('Number of colomns with nulls: ', check_nulls(train_df))"
   ]
  },
  {
   "cell_type": "markdown",
   "metadata": {},
   "source": [
    "## Object type fill in missing vals:"
   ]
  },
  {
   "cell_type": "code",
   "execution_count": 6,
   "metadata": {
    "collapsed": false
   },
   "outputs": [
    {
     "name": "stdout",
     "output_type": "stream",
     "text": [
      "(1460, 43)\n"
     ]
    }
   ],
   "source": [
    "train_df_obj = train_df.select_dtypes(include=['object'])\n",
    "print(train_df_obj.shape)\n"
   ]
  },
  {
   "cell_type": "code",
   "execution_count": 7,
   "metadata": {
    "collapsed": false
   },
   "outputs": [
    {
     "name": "stdout",
     "output_type": "stream",
     "text": [
      "Number of colomns with nulls:  16\n"
     ]
    }
   ],
   "source": [
    "print('Number of colomns with nulls: ', check_nulls(train_df_obj))"
   ]
  },
  {
   "cell_type": "markdown",
   "metadata": {},
   "source": [
    "## FILLING ALL with None is not always the good way. Sometimes there's a specific default value per colomns"
   ]
  },
  {
   "cell_type": "code",
   "execution_count": 8,
   "metadata": {
    "collapsed": true
   },
   "outputs": [],
   "source": [
    "train_df_obj = train_df_obj.fillna(\"None\")"
   ]
  },
  {
   "cell_type": "code",
   "execution_count": 9,
   "metadata": {
    "collapsed": false
   },
   "outputs": [
    {
     "name": "stdout",
     "output_type": "stream",
     "text": [
      "Number of colomns with nulls:  0\n"
     ]
    }
   ],
   "source": [
    "print('Number of colomns with nulls: ', check_nulls(train_df_obj))"
   ]
  },
  {
   "cell_type": "markdown",
   "metadata": {},
   "source": [
    "## Numerical missing values handling:"
   ]
  },
  {
   "cell_type": "code",
   "execution_count": 10,
   "metadata": {
    "collapsed": false,
    "scrolled": true
   },
   "outputs": [
    {
     "name": "stdout",
     "output_type": "stream",
     "text": [
      "(1460, 38)\n"
     ]
    }
   ],
   "source": [
    "imp = Imputer()\n",
    "train_df_non_obj = train_df.select_dtypes(exclude=['object'])\n",
    "print(train_df_non_obj.shape)"
   ]
  },
  {
   "cell_type": "markdown",
   "metadata": {},
   "source": [
    "## You must drop the target colomn"
   ]
  },
  {
   "cell_type": "code",
   "execution_count": 11,
   "metadata": {
    "collapsed": false
   },
   "outputs": [
    {
     "name": "stdout",
     "output_type": "stream",
     "text": [
      "(1460, 37)\n"
     ]
    }
   ],
   "source": [
    "train_df_non_obj = train_df_non_obj.drop('SalePrice', axis=1)\n",
    "print(train_df_non_obj.shape)"
   ]
  },
  {
   "cell_type": "code",
   "execution_count": 12,
   "metadata": {
    "collapsed": false
   },
   "outputs": [
    {
     "name": "stdout",
     "output_type": "stream",
     "text": [
      "Number of colomns with nulls:  3\n"
     ]
    }
   ],
   "source": [
    "print('Number of colomns with nulls: ', check_nulls(train_df_non_obj))"
   ]
  },
  {
   "cell_type": "code",
   "execution_count": 13,
   "metadata": {
    "collapsed": false,
    "scrolled": true
   },
   "outputs": [],
   "source": [
    "#train_df_non_obj = imp.fit_transform(train_df_non_obj)\n",
    "train_df_non_obj = pd.DataFrame(imp.fit_transform(train_df_non_obj), index=train_df_non_obj.index, columns=train_df_non_obj.columns)\n"
   ]
  },
  {
   "cell_type": "code",
   "execution_count": 14,
   "metadata": {
    "collapsed": false
   },
   "outputs": [
    {
     "name": "stdout",
     "output_type": "stream",
     "text": [
      "Number of colomns with nulls:  0\n"
     ]
    }
   ],
   "source": [
    "print('Number of colomns with nulls: ', check_nulls(train_df_non_obj))"
   ]
  },
  {
   "cell_type": "markdown",
   "metadata": {},
   "source": [
    "## Encode the skewed cols into log transform"
   ]
  },
  {
   "cell_type": "code",
   "execution_count": 15,
   "metadata": {
    "collapsed": false
   },
   "outputs": [
    {
     "name": "stdout",
     "output_type": "stream",
     "text": [
      "29 skewed numerical features to log transform\n"
     ]
    }
   ],
   "source": [
    "\n",
    "# Log transform of the skewed numerical features to lessen impact of outliers\n",
    "# Inspired by Alexandru Papiu's script : https://www.kaggle.com/apapiu/house-prices-advanced-regression-techniques/regularized-linear-models\n",
    "# As a general rule of thumb, a skewness with an absolute value > 0.5 is considered at least moderately skewed\n",
    "skewness = train_df_non_obj.apply(lambda x: skew(x))\n",
    "skewness = skewness[abs(skewness) > 0.5]\n",
    "print(str(skewness.shape[0]) + \" skewed numerical features to log transform\")\n",
    "skewed_features = skewness.index\n",
    "train_df_non_obj[skewed_features] = np.log1p(train_df_non_obj[skewed_features])"
   ]
  },
  {
   "cell_type": "markdown",
   "metadata": {},
   "source": [
    "## Now put the two transfroms together"
   ]
  },
  {
   "cell_type": "code",
   "execution_count": 16,
   "metadata": {
    "collapsed": false
   },
   "outputs": [],
   "source": [
    "train_df = pd.concat([train_df_non_obj, train_df_obj, train_df.SalePrice], axis=1)# Dont forget to merge back the target price!"
   ]
  },
  {
   "cell_type": "code",
   "execution_count": 17,
   "metadata": {
    "collapsed": false
   },
   "outputs": [
    {
     "data": {
      "text/plain": [
       "(1460, 81)"
      ]
     },
     "execution_count": 17,
     "metadata": {},
     "output_type": "execute_result"
    }
   ],
   "source": [
    "train_df.shape"
   ]
  },
  {
   "cell_type": "code",
   "execution_count": 18,
   "metadata": {
    "collapsed": false
   },
   "outputs": [
    {
     "name": "stdout",
     "output_type": "stream",
     "text": [
      "Number of colomns with nulls:  0\n"
     ]
    }
   ],
   "source": [
    "print('Number of colomns with nulls: ', check_nulls(train_df))"
   ]
  },
  {
   "cell_type": "markdown",
   "metadata": {},
   "source": [
    "# Let's find the features importance by correlation to price"
   ]
  },
  {
   "cell_type": "code",
   "execution_count": 19,
   "metadata": {
    "collapsed": false
   },
   "outputs": [
    {
     "name": "stdout",
     "output_type": "stream",
     "text": [
      "Find most important features relative to target\n",
      "SalePrice        1.000000\n",
      "OverallQual      0.790982\n",
      "GrLivArea        0.695147\n",
      "GarageCars       0.640409\n",
      "GarageArea       0.623431\n",
      "1stFlrSF         0.591299\n",
      "FullBath         0.560664\n",
      "TotRmsAbvGrd     0.522355\n",
      "YearBuilt        0.520575\n",
      "YearRemodAdd     0.506848\n",
      "Fireplaces       0.480136\n",
      "GarageYrBlt      0.468325\n",
      "OpenPorchSF      0.429970\n",
      "MasVnrArea       0.411655\n",
      "LotArea          0.388528\n",
      "LotFrontage      0.332195\n",
      "TotalBsmtSF      0.325883\n",
      "WoodDeckSF       0.321450\n",
      "HalfBath         0.291326\n",
      "BsmtFullBath     0.230125\n",
      "BsmtUnfSF        0.186572\n",
      "BsmtFinSF1       0.185472\n",
      "BedroomAbvGr     0.168213\n",
      "2ndFlrSF         0.167849\n",
      "ScreenPorch      0.093910\n",
      "PoolArea         0.093700\n",
      "3SsnPorch        0.047322\n",
      "MoSold           0.046432\n",
      "BsmtHalfBath    -0.016531\n",
      "Id              -0.021917\n",
      "YrSold          -0.028923\n",
      "MSSubClass      -0.034217\n",
      "LowQualFinSF    -0.044358\n",
      "BsmtFinSF2      -0.048267\n",
      "OverallCond     -0.053177\n",
      "MiscVal         -0.063495\n",
      "KitchenAbvGr    -0.132905\n",
      "EnclosedPorch   -0.176065\n",
      "Name: SalePrice, dtype: float64\n"
     ]
    }
   ],
   "source": [
    "# Find most important features relative to target\n",
    "print(\"Find most important features relative to target\")\n",
    "corr = train_df.corr()\n",
    "corr.sort_values([\"SalePrice\"], ascending = False, inplace = True)\n",
    "print(corr.SalePrice)"
   ]
  },
  {
   "cell_type": "markdown",
   "metadata": {},
   "source": [
    "# Handle categorial features via OHE"
   ]
  },
  {
   "cell_type": "code",
   "execution_count": 20,
   "metadata": {
    "collapsed": true
   },
   "outputs": [],
   "source": [
    "train_df = pd.get_dummies(train_df)"
   ]
  },
  {
   "cell_type": "code",
   "execution_count": 21,
   "metadata": {
    "collapsed": false
   },
   "outputs": [
    {
     "data": {
      "text/html": [
       "<div>\n",
       "<table border=\"1\" class=\"dataframe\">\n",
       "  <thead>\n",
       "    <tr style=\"text-align: right;\">\n",
       "      <th></th>\n",
       "      <th>Id</th>\n",
       "      <th>MSSubClass</th>\n",
       "      <th>LotFrontage</th>\n",
       "      <th>LotArea</th>\n",
       "      <th>OverallQual</th>\n",
       "      <th>OverallCond</th>\n",
       "      <th>YearBuilt</th>\n",
       "      <th>YearRemodAdd</th>\n",
       "      <th>MasVnrArea</th>\n",
       "      <th>BsmtFinSF1</th>\n",
       "      <th>...</th>\n",
       "      <th>SaleType_ConLw</th>\n",
       "      <th>SaleType_New</th>\n",
       "      <th>SaleType_Oth</th>\n",
       "      <th>SaleType_WD</th>\n",
       "      <th>SaleCondition_Abnorml</th>\n",
       "      <th>SaleCondition_AdjLand</th>\n",
       "      <th>SaleCondition_Alloca</th>\n",
       "      <th>SaleCondition_Family</th>\n",
       "      <th>SaleCondition_Normal</th>\n",
       "      <th>SaleCondition_Partial</th>\n",
       "    </tr>\n",
       "  </thead>\n",
       "  <tbody>\n",
       "    <tr>\n",
       "      <th>0</th>\n",
       "      <td>1.0</td>\n",
       "      <td>4.110874</td>\n",
       "      <td>4.189655</td>\n",
       "      <td>9.042040</td>\n",
       "      <td>7.0</td>\n",
       "      <td>1.791759</td>\n",
       "      <td>7.602900</td>\n",
       "      <td>7.602900</td>\n",
       "      <td>5.283204</td>\n",
       "      <td>6.561031</td>\n",
       "      <td>...</td>\n",
       "      <td>0.0</td>\n",
       "      <td>0.0</td>\n",
       "      <td>0.0</td>\n",
       "      <td>1.0</td>\n",
       "      <td>0.0</td>\n",
       "      <td>0.0</td>\n",
       "      <td>0.0</td>\n",
       "      <td>0.0</td>\n",
       "      <td>1.0</td>\n",
       "      <td>0.0</td>\n",
       "    </tr>\n",
       "    <tr>\n",
       "      <th>1</th>\n",
       "      <td>2.0</td>\n",
       "      <td>3.044522</td>\n",
       "      <td>4.394449</td>\n",
       "      <td>9.169623</td>\n",
       "      <td>6.0</td>\n",
       "      <td>2.197225</td>\n",
       "      <td>7.589336</td>\n",
       "      <td>7.589336</td>\n",
       "      <td>0.000000</td>\n",
       "      <td>6.886532</td>\n",
       "      <td>...</td>\n",
       "      <td>0.0</td>\n",
       "      <td>0.0</td>\n",
       "      <td>0.0</td>\n",
       "      <td>1.0</td>\n",
       "      <td>0.0</td>\n",
       "      <td>0.0</td>\n",
       "      <td>0.0</td>\n",
       "      <td>0.0</td>\n",
       "      <td>1.0</td>\n",
       "      <td>0.0</td>\n",
       "    </tr>\n",
       "    <tr>\n",
       "      <th>2</th>\n",
       "      <td>3.0</td>\n",
       "      <td>4.110874</td>\n",
       "      <td>4.234107</td>\n",
       "      <td>9.328212</td>\n",
       "      <td>7.0</td>\n",
       "      <td>1.791759</td>\n",
       "      <td>7.601902</td>\n",
       "      <td>7.602401</td>\n",
       "      <td>5.093750</td>\n",
       "      <td>6.188264</td>\n",
       "      <td>...</td>\n",
       "      <td>0.0</td>\n",
       "      <td>0.0</td>\n",
       "      <td>0.0</td>\n",
       "      <td>1.0</td>\n",
       "      <td>0.0</td>\n",
       "      <td>0.0</td>\n",
       "      <td>0.0</td>\n",
       "      <td>0.0</td>\n",
       "      <td>1.0</td>\n",
       "      <td>0.0</td>\n",
       "    </tr>\n",
       "  </tbody>\n",
       "</table>\n",
       "<p>3 rows × 305 columns</p>\n",
       "</div>"
      ],
      "text/plain": [
       "    Id  MSSubClass  LotFrontage   LotArea  OverallQual  OverallCond  \\\n",
       "0  1.0    4.110874     4.189655  9.042040          7.0     1.791759   \n",
       "1  2.0    3.044522     4.394449  9.169623          6.0     2.197225   \n",
       "2  3.0    4.110874     4.234107  9.328212          7.0     1.791759   \n",
       "\n",
       "   YearBuilt  YearRemodAdd  MasVnrArea  BsmtFinSF1          ...            \\\n",
       "0   7.602900      7.602900    5.283204    6.561031          ...             \n",
       "1   7.589336      7.589336    0.000000    6.886532          ...             \n",
       "2   7.601902      7.602401    5.093750    6.188264          ...             \n",
       "\n",
       "   SaleType_ConLw  SaleType_New  SaleType_Oth  SaleType_WD  \\\n",
       "0             0.0           0.0           0.0          1.0   \n",
       "1             0.0           0.0           0.0          1.0   \n",
       "2             0.0           0.0           0.0          1.0   \n",
       "\n",
       "   SaleCondition_Abnorml  SaleCondition_AdjLand  SaleCondition_Alloca  \\\n",
       "0                    0.0                    0.0                   0.0   \n",
       "1                    0.0                    0.0                   0.0   \n",
       "2                    0.0                    0.0                   0.0   \n",
       "\n",
       "   SaleCondition_Family  SaleCondition_Normal  SaleCondition_Partial  \n",
       "0                   0.0                   1.0                    0.0  \n",
       "1                   0.0                   1.0                    0.0  \n",
       "2                   0.0                   1.0                    0.0  \n",
       "\n",
       "[3 rows x 305 columns]"
      ]
     },
     "execution_count": 21,
     "metadata": {},
     "output_type": "execute_result"
    }
   ],
   "source": [
    "train_df.head(3)"
   ]
  },
  {
   "cell_type": "code",
   "execution_count": 22,
   "metadata": {
    "collapsed": false
   },
   "outputs": [
    {
     "data": {
      "text/plain": [
       "(1460, 305)"
      ]
     },
     "execution_count": 22,
     "metadata": {},
     "output_type": "execute_result"
    }
   ],
   "source": [
    "train_df.shape"
   ]
  },
  {
   "cell_type": "markdown",
   "metadata": {},
   "source": [
    "# Why the number of colomns increased?"
   ]
  },
  {
   "cell_type": "code",
   "execution_count": 23,
   "metadata": {
    "collapsed": false
   },
   "outputs": [
    {
     "name": "stdout",
     "output_type": "stream",
     "text": [
      "Id\n",
      "MSSubClass\n",
      "LotFrontage\n",
      "LotArea\n",
      "OverallQual\n",
      "OverallCond\n",
      "YearBuilt\n",
      "YearRemodAdd\n",
      "MasVnrArea\n",
      "BsmtFinSF1\n",
      "BsmtFinSF2\n",
      "BsmtUnfSF\n",
      "TotalBsmtSF\n",
      "1stFlrSF\n",
      "2ndFlrSF\n",
      "LowQualFinSF\n",
      "GrLivArea\n",
      "BsmtFullBath\n",
      "BsmtHalfBath\n",
      "FullBath\n",
      "HalfBath\n",
      "BedroomAbvGr\n",
      "KitchenAbvGr\n",
      "TotRmsAbvGrd\n",
      "Fireplaces\n",
      "GarageYrBlt\n",
      "GarageCars\n",
      "GarageArea\n",
      "WoodDeckSF\n",
      "OpenPorchSF\n",
      "EnclosedPorch\n",
      "3SsnPorch\n",
      "ScreenPorch\n",
      "PoolArea\n",
      "MiscVal\n",
      "MoSold\n",
      "YrSold\n",
      "SalePrice\n",
      "MSZoning_C (all)\n",
      "MSZoning_FV\n",
      "MSZoning_RH\n",
      "MSZoning_RL\n",
      "MSZoning_RM\n",
      "Street_Grvl\n",
      "Street_Pave\n",
      "Alley_Grvl\n",
      "Alley_None\n",
      "Alley_Pave\n",
      "LotShape_IR1\n",
      "LotShape_IR2\n",
      "LotShape_IR3\n",
      "LotShape_Reg\n",
      "LandContour_Bnk\n",
      "LandContour_HLS\n",
      "LandContour_Low\n",
      "LandContour_Lvl\n",
      "Utilities_AllPub\n",
      "Utilities_NoSeWa\n",
      "LotConfig_Corner\n",
      "LotConfig_CulDSac\n",
      "LotConfig_FR2\n",
      "LotConfig_FR3\n",
      "LotConfig_Inside\n",
      "LandSlope_Gtl\n",
      "LandSlope_Mod\n",
      "LandSlope_Sev\n",
      "Neighborhood_Blmngtn\n",
      "Neighborhood_Blueste\n",
      "Neighborhood_BrDale\n",
      "Neighborhood_BrkSide\n",
      "Neighborhood_ClearCr\n",
      "Neighborhood_CollgCr\n",
      "Neighborhood_Crawfor\n",
      "Neighborhood_Edwards\n",
      "Neighborhood_Gilbert\n",
      "Neighborhood_IDOTRR\n",
      "Neighborhood_MeadowV\n",
      "Neighborhood_Mitchel\n",
      "Neighborhood_NAmes\n",
      "Neighborhood_NPkVill\n",
      "Neighborhood_NWAmes\n",
      "Neighborhood_NoRidge\n",
      "Neighborhood_NridgHt\n",
      "Neighborhood_OldTown\n",
      "Neighborhood_SWISU\n",
      "Neighborhood_Sawyer\n",
      "Neighborhood_SawyerW\n",
      "Neighborhood_Somerst\n",
      "Neighborhood_StoneBr\n",
      "Neighborhood_Timber\n",
      "Neighborhood_Veenker\n",
      "Condition1_Artery\n",
      "Condition1_Feedr\n",
      "Condition1_Norm\n",
      "Condition1_PosA\n",
      "Condition1_PosN\n",
      "Condition1_RRAe\n",
      "Condition1_RRAn\n",
      "Condition1_RRNe\n",
      "Condition1_RRNn\n",
      "Condition2_Artery\n",
      "Condition2_Feedr\n",
      "Condition2_Norm\n",
      "Condition2_PosA\n",
      "Condition2_PosN\n",
      "Condition2_RRAe\n",
      "Condition2_RRAn\n",
      "Condition2_RRNn\n",
      "BldgType_1Fam\n",
      "BldgType_2fmCon\n",
      "BldgType_Duplex\n",
      "BldgType_Twnhs\n",
      "BldgType_TwnhsE\n",
      "HouseStyle_1.5Fin\n",
      "HouseStyle_1.5Unf\n",
      "HouseStyle_1Story\n",
      "HouseStyle_2.5Fin\n",
      "HouseStyle_2.5Unf\n",
      "HouseStyle_2Story\n",
      "HouseStyle_SFoyer\n",
      "HouseStyle_SLvl\n",
      "RoofStyle_Flat\n",
      "RoofStyle_Gable\n",
      "RoofStyle_Gambrel\n",
      "RoofStyle_Hip\n",
      "RoofStyle_Mansard\n",
      "RoofStyle_Shed\n",
      "RoofMatl_ClyTile\n",
      "RoofMatl_CompShg\n",
      "RoofMatl_Membran\n",
      "RoofMatl_Metal\n",
      "RoofMatl_Roll\n",
      "RoofMatl_Tar&Grv\n",
      "RoofMatl_WdShake\n",
      "RoofMatl_WdShngl\n",
      "Exterior1st_AsbShng\n",
      "Exterior1st_AsphShn\n",
      "Exterior1st_BrkComm\n",
      "Exterior1st_BrkFace\n",
      "Exterior1st_CBlock\n",
      "Exterior1st_CemntBd\n",
      "Exterior1st_HdBoard\n",
      "Exterior1st_ImStucc\n",
      "Exterior1st_MetalSd\n",
      "Exterior1st_Plywood\n",
      "Exterior1st_Stone\n",
      "Exterior1st_Stucco\n",
      "Exterior1st_VinylSd\n",
      "Exterior1st_Wd Sdng\n",
      "Exterior1st_WdShing\n",
      "Exterior2nd_AsbShng\n",
      "Exterior2nd_AsphShn\n",
      "Exterior2nd_Brk Cmn\n",
      "Exterior2nd_BrkFace\n",
      "Exterior2nd_CBlock\n",
      "Exterior2nd_CmentBd\n",
      "Exterior2nd_HdBoard\n",
      "Exterior2nd_ImStucc\n",
      "Exterior2nd_MetalSd\n",
      "Exterior2nd_Other\n",
      "Exterior2nd_Plywood\n",
      "Exterior2nd_Stone\n",
      "Exterior2nd_Stucco\n",
      "Exterior2nd_VinylSd\n",
      "Exterior2nd_Wd Sdng\n",
      "Exterior2nd_Wd Shng\n",
      "MasVnrType_BrkCmn\n",
      "MasVnrType_BrkFace\n",
      "MasVnrType_None\n",
      "MasVnrType_Stone\n",
      "ExterQual_Ex\n",
      "ExterQual_Fa\n",
      "ExterQual_Gd\n",
      "ExterQual_TA\n",
      "ExterCond_Ex\n",
      "ExterCond_Fa\n",
      "ExterCond_Gd\n",
      "ExterCond_Po\n",
      "ExterCond_TA\n",
      "Foundation_BrkTil\n",
      "Foundation_CBlock\n",
      "Foundation_PConc\n",
      "Foundation_Slab\n",
      "Foundation_Stone\n",
      "Foundation_Wood\n",
      "BsmtQual_Ex\n",
      "BsmtQual_Fa\n",
      "BsmtQual_Gd\n",
      "BsmtQual_None\n",
      "BsmtQual_TA\n",
      "BsmtCond_Fa\n",
      "BsmtCond_Gd\n",
      "BsmtCond_None\n",
      "BsmtCond_Po\n",
      "BsmtCond_TA\n",
      "BsmtExposure_Av\n",
      "BsmtExposure_Gd\n",
      "BsmtExposure_Mn\n",
      "BsmtExposure_No\n",
      "BsmtExposure_None\n",
      "BsmtFinType1_ALQ\n",
      "BsmtFinType1_BLQ\n",
      "BsmtFinType1_GLQ\n",
      "BsmtFinType1_LwQ\n",
      "BsmtFinType1_None\n",
      "BsmtFinType1_Rec\n",
      "BsmtFinType1_Unf\n",
      "BsmtFinType2_ALQ\n",
      "BsmtFinType2_BLQ\n",
      "BsmtFinType2_GLQ\n",
      "BsmtFinType2_LwQ\n",
      "BsmtFinType2_None\n",
      "BsmtFinType2_Rec\n",
      "BsmtFinType2_Unf\n",
      "Heating_Floor\n",
      "Heating_GasA\n",
      "Heating_GasW\n",
      "Heating_Grav\n",
      "Heating_OthW\n",
      "Heating_Wall\n",
      "HeatingQC_Ex\n",
      "HeatingQC_Fa\n",
      "HeatingQC_Gd\n",
      "HeatingQC_Po\n",
      "HeatingQC_TA\n",
      "CentralAir_N\n",
      "CentralAir_Y\n",
      "Electrical_FuseA\n",
      "Electrical_FuseF\n",
      "Electrical_FuseP\n",
      "Electrical_Mix\n",
      "Electrical_None\n",
      "Electrical_SBrkr\n",
      "KitchenQual_Ex\n",
      "KitchenQual_Fa\n",
      "KitchenQual_Gd\n",
      "KitchenQual_TA\n",
      "Functional_Maj1\n",
      "Functional_Maj2\n",
      "Functional_Min1\n",
      "Functional_Min2\n",
      "Functional_Mod\n",
      "Functional_Sev\n",
      "Functional_Typ\n",
      "FireplaceQu_Ex\n",
      "FireplaceQu_Fa\n",
      "FireplaceQu_Gd\n",
      "FireplaceQu_None\n",
      "FireplaceQu_Po\n",
      "FireplaceQu_TA\n",
      "GarageType_2Types\n",
      "GarageType_Attchd\n",
      "GarageType_Basment\n",
      "GarageType_BuiltIn\n",
      "GarageType_CarPort\n",
      "GarageType_Detchd\n",
      "GarageType_None\n",
      "GarageFinish_Fin\n",
      "GarageFinish_None\n",
      "GarageFinish_RFn\n",
      "GarageFinish_Unf\n",
      "GarageQual_Ex\n",
      "GarageQual_Fa\n",
      "GarageQual_Gd\n",
      "GarageQual_None\n",
      "GarageQual_Po\n",
      "GarageQual_TA\n",
      "GarageCond_Ex\n",
      "GarageCond_Fa\n",
      "GarageCond_Gd\n",
      "GarageCond_None\n",
      "GarageCond_Po\n",
      "GarageCond_TA\n",
      "PavedDrive_N\n",
      "PavedDrive_P\n",
      "PavedDrive_Y\n",
      "PoolQC_Ex\n",
      "PoolQC_Fa\n",
      "PoolQC_Gd\n",
      "PoolQC_None\n",
      "Fence_GdPrv\n",
      "Fence_GdWo\n",
      "Fence_MnPrv\n",
      "Fence_MnWw\n",
      "Fence_None\n",
      "MiscFeature_Gar2\n",
      "MiscFeature_None\n",
      "MiscFeature_Othr\n",
      "MiscFeature_Shed\n",
      "MiscFeature_TenC\n",
      "SaleType_COD\n",
      "SaleType_CWD\n",
      "SaleType_Con\n",
      "SaleType_ConLD\n",
      "SaleType_ConLI\n",
      "SaleType_ConLw\n",
      "SaleType_New\n",
      "SaleType_Oth\n",
      "SaleType_WD\n",
      "SaleCondition_Abnorml\n",
      "SaleCondition_AdjLand\n",
      "SaleCondition_Alloca\n",
      "SaleCondition_Family\n",
      "SaleCondition_Normal\n",
      "SaleCondition_Partial\n"
     ]
    }
   ],
   "source": [
    "for col in train_df.columns:\n",
    "    print(col)"
   ]
  },
  {
   "cell_type": "markdown",
   "metadata": {},
   "source": [
    "Because the categorial cols are now col per cat_value: PavedDrive --> PavedDrive_N, PavedDrive_P, PavedDrive_Y, each has only 1 or 0\n",
    "\n",
    "Note that: if you do the same after filling NA with None, you get more colmns due to the _None cat.\n",
    "    \n",
    "Another way to do it is: LableEncoder. But it only works for ordinal not categorial vars, o.w. higher values means higher importance."
   ]
  },
  {
   "cell_type": "code",
   "execution_count": 24,
   "metadata": {
    "collapsed": false
   },
   "outputs": [
    {
     "data": {
      "text/plain": [
       "Id                       float64\n",
       "MSSubClass               float64\n",
       "LotFrontage              float64\n",
       "LotArea                  float64\n",
       "OverallQual              float64\n",
       "OverallCond              float64\n",
       "YearBuilt                float64\n",
       "YearRemodAdd             float64\n",
       "MasVnrArea               float64\n",
       "BsmtFinSF1               float64\n",
       "BsmtFinSF2               float64\n",
       "BsmtUnfSF                float64\n",
       "TotalBsmtSF              float64\n",
       "1stFlrSF                 float64\n",
       "2ndFlrSF                 float64\n",
       "LowQualFinSF             float64\n",
       "GrLivArea                float64\n",
       "BsmtFullBath             float64\n",
       "BsmtHalfBath             float64\n",
       "FullBath                 float64\n",
       "HalfBath                 float64\n",
       "BedroomAbvGr             float64\n",
       "KitchenAbvGr             float64\n",
       "TotRmsAbvGrd             float64\n",
       "Fireplaces               float64\n",
       "GarageYrBlt              float64\n",
       "GarageCars               float64\n",
       "GarageArea               float64\n",
       "WoodDeckSF               float64\n",
       "OpenPorchSF              float64\n",
       "                          ...   \n",
       "PavedDrive_Y             float64\n",
       "PoolQC_Ex                float64\n",
       "PoolQC_Fa                float64\n",
       "PoolQC_Gd                float64\n",
       "PoolQC_None              float64\n",
       "Fence_GdPrv              float64\n",
       "Fence_GdWo               float64\n",
       "Fence_MnPrv              float64\n",
       "Fence_MnWw               float64\n",
       "Fence_None               float64\n",
       "MiscFeature_Gar2         float64\n",
       "MiscFeature_None         float64\n",
       "MiscFeature_Othr         float64\n",
       "MiscFeature_Shed         float64\n",
       "MiscFeature_TenC         float64\n",
       "SaleType_COD             float64\n",
       "SaleType_CWD             float64\n",
       "SaleType_Con             float64\n",
       "SaleType_ConLD           float64\n",
       "SaleType_ConLI           float64\n",
       "SaleType_ConLw           float64\n",
       "SaleType_New             float64\n",
       "SaleType_Oth             float64\n",
       "SaleType_WD              float64\n",
       "SaleCondition_Abnorml    float64\n",
       "SaleCondition_AdjLand    float64\n",
       "SaleCondition_Alloca     float64\n",
       "SaleCondition_Family     float64\n",
       "SaleCondition_Normal     float64\n",
       "SaleCondition_Partial    float64\n",
       "dtype: object"
      ]
     },
     "execution_count": 24,
     "metadata": {},
     "output_type": "execute_result"
    }
   ],
   "source": [
    "train_df.dtypes # No objects"
   ]
  },
  {
   "cell_type": "markdown",
   "metadata": {},
   "source": [
    "# Target variable"
   ]
  },
  {
   "cell_type": "code",
   "execution_count": 25,
   "metadata": {
    "collapsed": false
   },
   "outputs": [],
   "source": [
    "# Log transform the target for official scoring\n",
    "train_df.SalePrice = np.log1p(train_df.SalePrice)\n"
   ]
  }
 ],
 "metadata": {
  "anaconda-cloud": {},
  "kernelspec": {
   "display_name": "Python [conda root]",
   "language": "python",
   "name": "conda-root-py"
  },
  "language_info": {
   "codemirror_mode": {
    "name": "ipython",
    "version": 3
   },
   "file_extension": ".py",
   "mimetype": "text/x-python",
   "name": "python",
   "nbconvert_exporter": "python",
   "pygments_lexer": "ipython3",
   "version": "3.5.2"
  }
 },
 "nbformat": 4,
 "nbformat_minor": 1
}
