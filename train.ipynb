{
 "cells": [
  {
   "cell_type": "code",
   "execution_count": 26,
   "metadata": {
    "collapsed": false
   },
   "outputs": [
    {
     "name": "stderr",
     "output_type": "stream",
     "text": [
      "C:\\Anaconda3\\lib\\site-packages\\sklearn\\cross_validation.py:41: DeprecationWarning: This module was deprecated in version 0.18 in favor of the model_selection module into which all the refactored classes and functions are moved. Also note that the interface of the new CV iterators are different from that of this module. This module will be removed in 0.20.\n",
      "  \"This module will be removed in 0.20.\", DeprecationWarning)\n"
     ]
    }
   ],
   "source": [
    "import numpy as np\n",
    "import pandas as pd\n",
    "from scipy.stats import skew\n",
    "from sklearn.model_selection import train_test_split\n",
    "from xgboost import XGBRegressor\n",
    "from sklearn.metrics import mean_absolute_error, mean_squared_error\n",
    "%matplotlib inline"
   ]
  },
  {
   "cell_type": "markdown",
   "metadata": {
    "collapsed": true
   },
   "source": [
    "# Data load"
   ]
  },
  {
   "cell_type": "markdown",
   "metadata": {
    "collapsed": true
   },
   "source": [
    "## Train"
   ]
  },
  {
   "cell_type": "code",
   "execution_count": 2,
   "metadata": {
    "collapsed": false
   },
   "outputs": [
    {
     "name": "stdout",
     "output_type": "stream",
     "text": [
      "(1460, 81)\n"
     ]
    }
   ],
   "source": [
    "train_df = pd.read_csv('../dat/train.csv')\n",
    "print(train_df.shape)\n"
   ]
  },
  {
   "cell_type": "markdown",
   "metadata": {},
   "source": [
    "# Target"
   ]
  },
  {
   "cell_type": "code",
   "execution_count": 3,
   "metadata": {
    "collapsed": false
   },
   "outputs": [],
   "source": [
    "y_ = train_df.SalePrice\n",
    "y = y_log = np.log1p(y_)\n",
    "train_df = train_df.drop('SalePrice', axis=1)\n",
    "train_idx = len(train_df)"
   ]
  },
  {
   "cell_type": "markdown",
   "metadata": {
    "collapsed": true
   },
   "source": [
    "## Test"
   ]
  },
  {
   "cell_type": "code",
   "execution_count": 4,
   "metadata": {
    "collapsed": false
   },
   "outputs": [
    {
     "name": "stdout",
     "output_type": "stream",
     "text": [
      "(1459, 80)\n"
     ]
    },
    {
     "data": {
      "text/plain": [
       "True"
      ]
     },
     "execution_count": 4,
     "metadata": {},
     "output_type": "execute_result"
    }
   ],
   "source": [
    "test_df = pd.read_csv('../dat/test.csv')\n",
    "print(test_df.shape)\n",
    "len(test_df.columns) == len(train_df.columns)"
   ]
  },
  {
   "cell_type": "markdown",
   "metadata": {
    "collapsed": true
   },
   "source": [
    "## Merge/Concat"
   ]
  },
  {
   "cell_type": "code",
   "execution_count": 5,
   "metadata": {
    "collapsed": false
   },
   "outputs": [
    {
     "data": {
      "text/plain": [
       "(2919, 80)"
      ]
     },
     "execution_count": 5,
     "metadata": {},
     "output_type": "execute_result"
    }
   ],
   "source": [
    "df = pd.concat([train_df, test_df], axis=0)\n",
    "df.shape"
   ]
  },
  {
   "cell_type": "markdown",
   "metadata": {
    "collapsed": true
   },
   "source": [
    "# Handle missing vals"
   ]
  },
  {
   "cell_type": "code",
   "execution_count": 6,
   "metadata": {
    "collapsed": true
   },
   "outputs": [],
   "source": [
    "# Number of colomns with nulls\n",
    "def check_nulls(df):\n",
    "    print(df.isnull().sum())\n",
    "    return len(df.isnull().sum().nonzero()[0])"
   ]
  },
  {
   "cell_type": "code",
   "execution_count": 7,
   "metadata": {
    "collapsed": false
   },
   "outputs": [
    {
     "name": "stdout",
     "output_type": "stream",
     "text": [
      "Id                  0\n",
      "MSSubClass          0\n",
      "MSZoning            4\n",
      "LotFrontage       486\n",
      "LotArea             0\n",
      "Street              0\n",
      "Alley            2721\n",
      "LotShape            0\n",
      "LandContour         0\n",
      "Utilities           2\n",
      "LotConfig           0\n",
      "LandSlope           0\n",
      "Neighborhood        0\n",
      "Condition1          0\n",
      "Condition2          0\n",
      "BldgType            0\n",
      "HouseStyle          0\n",
      "OverallQual         0\n",
      "OverallCond         0\n",
      "YearBuilt           0\n",
      "YearRemodAdd        0\n",
      "RoofStyle           0\n",
      "RoofMatl            0\n",
      "Exterior1st         1\n",
      "Exterior2nd         1\n",
      "MasVnrType         24\n",
      "MasVnrArea         23\n",
      "ExterQual           0\n",
      "ExterCond           0\n",
      "Foundation          0\n",
      "                 ... \n",
      "HalfBath            0\n",
      "BedroomAbvGr        0\n",
      "KitchenAbvGr        0\n",
      "KitchenQual         1\n",
      "TotRmsAbvGrd        0\n",
      "Functional          2\n",
      "Fireplaces          0\n",
      "FireplaceQu      1420\n",
      "GarageType        157\n",
      "GarageYrBlt       159\n",
      "GarageFinish      159\n",
      "GarageCars          1\n",
      "GarageArea          1\n",
      "GarageQual        159\n",
      "GarageCond        159\n",
      "PavedDrive          0\n",
      "WoodDeckSF          0\n",
      "OpenPorchSF         0\n",
      "EnclosedPorch       0\n",
      "3SsnPorch           0\n",
      "ScreenPorch         0\n",
      "PoolArea            0\n",
      "PoolQC           2909\n",
      "Fence            2348\n",
      "MiscFeature      2814\n",
      "MiscVal             0\n",
      "MoSold              0\n",
      "YrSold              0\n",
      "SaleType            1\n",
      "SaleCondition       0\n",
      "dtype: int64\n",
      "34\n"
     ]
    }
   ],
   "source": [
    "print(check_nulls(df))"
   ]
  },
  {
   "cell_type": "markdown",
   "metadata": {
    "collapsed": true
   },
   "source": [
    "## Special colomns handling"
   ]
  },
  {
   "cell_type": "code",
   "execution_count": 8,
   "metadata": {
    "collapsed": true
   },
   "outputs": [],
   "source": [
    "# Handle missing values for features where median/mean or most common value doesn't make sense\n",
    "\n",
    "# Alley : data description says NA means \"no alley access\"\n",
    "df.loc[:, \"Alley\"] = df.loc[:, \"Alley\"].fillna(\"None\")\n",
    "# BedroomAbvGr : NA most likely means 0\n",
    "df.loc[:, \"BedroomAbvGr\"] = df.loc[:, \"BedroomAbvGr\"].fillna(0)\n",
    "# BsmtQual etc : data description says NA for basement features is \"no basement\"\n",
    "df.loc[:, \"BsmtQual\"] = df.loc[:, \"BsmtQual\"].fillna(\"No\")\n",
    "df.loc[:, \"BsmtCond\"] = df.loc[:, \"BsmtCond\"].fillna(\"No\")\n",
    "df.loc[:, \"BsmtExposure\"] = df.loc[:, \"BsmtExposure\"].fillna(\"No\")\n",
    "df.loc[:, \"BsmtFinType1\"] = df.loc[:, \"BsmtFinType1\"].fillna(\"No\")\n",
    "df.loc[:, \"BsmtFinType2\"] = df.loc[:, \"BsmtFinType2\"].fillna(\"No\")\n",
    "df.loc[:, \"BsmtFullBath\"] = df.loc[:, \"BsmtFullBath\"].fillna(0)\n",
    "df.loc[:, \"BsmtHalfBath\"] = df.loc[:, \"BsmtHalfBath\"].fillna(0)\n",
    "df.loc[:, \"BsmtUnfSF\"] = df.loc[:, \"BsmtUnfSF\"].fillna(0)\n",
    "# CentralAir : NA most likely means No\n",
    "df.loc[:, \"CentralAir\"] = df.loc[:, \"CentralAir\"].fillna(\"N\")\n",
    "# Condition : NA most likely means Normal\n",
    "df.loc[:, \"Condition1\"] = df.loc[:, \"Condition1\"].fillna(\"Norm\")\n",
    "df.loc[:, \"Condition2\"] = df.loc[:, \"Condition2\"].fillna(\"Norm\")\n",
    "# EnclosedPorch : NA most likely means no enclosed porch\n",
    "df.loc[:, \"EnclosedPorch\"] = df.loc[:, \"EnclosedPorch\"].fillna(0)\n",
    "# External stuff : NA most likely means average\n",
    "df.loc[:, \"ExterCond\"] = df.loc[:, \"ExterCond\"].fillna(\"TA\")\n",
    "df.loc[:, \"ExterQual\"] = df.loc[:, \"ExterQual\"].fillna(\"TA\")\n",
    "# Fence : data description says NA means \"no fence\"\n",
    "df.loc[:, \"Fence\"] = df.loc[:, \"Fence\"].fillna(\"No\")\n",
    "# FireplaceQu : data description says NA means \"no fireplace\"\n",
    "df.loc[:, \"FireplaceQu\"] = df.loc[:, \"FireplaceQu\"].fillna(\"No\")\n",
    "df.loc[:, \"Fireplaces\"] = df.loc[:, \"Fireplaces\"].fillna(0)\n",
    "# Functional : data description says NA means typical\n",
    "df.loc[:, \"Functional\"] = df.loc[:, \"Functional\"].fillna(\"Typ\")\n",
    "# GarageType etc : data description says NA for garage features is \"no garage\"\n",
    "df.loc[:, \"GarageType\"] = df.loc[:, \"GarageType\"].fillna(\"No\")\n",
    "df.loc[:, \"GarageFinish\"] = df.loc[:, \"GarageFinish\"].fillna(\"No\")\n",
    "df.loc[:, \"GarageQual\"] = df.loc[:, \"GarageQual\"].fillna(\"No\")\n",
    "df.loc[:, \"GarageCond\"] = df.loc[:, \"GarageCond\"].fillna(\"No\")\n",
    "df.loc[:, \"GarageArea\"] = df.loc[:, \"GarageArea\"].fillna(0)\n",
    "df.loc[:, \"GarageCars\"] = df.loc[:, \"GarageCars\"].fillna(0)\n",
    "# HalfBath : NA most likely means no half baths above grade\n",
    "df.loc[:, \"HalfBath\"] = df.loc[:, \"HalfBath\"].fillna(0)\n",
    "# HeatingQC : NA most likely means typical\n",
    "df.loc[:, \"HeatingQC\"] = df.loc[:, \"HeatingQC\"].fillna(\"TA\")\n",
    "# KitchenAbvGr : NA most likely means 0\n",
    "df.loc[:, \"KitchenAbvGr\"] = df.loc[:, \"KitchenAbvGr\"].fillna(0)\n",
    "# KitchenQual : NA most likely means typical\n",
    "df.loc[:, \"KitchenQual\"] = df.loc[:, \"KitchenQual\"].fillna(\"TA\")\n",
    "# LotFrontage : NA most likely means no lot frontage\n",
    "df.loc[:, \"LotFrontage\"] = df.loc[:, \"LotFrontage\"].fillna(0)\n",
    "# LotShape : NA most likely means regular\n",
    "df.loc[:, \"LotShape\"] = df.loc[:, \"LotShape\"].fillna(\"Reg\")\n",
    "# MasVnrType : NA most likely means no veneer\n",
    "df.loc[:, \"MasVnrType\"] = df.loc[:, \"MasVnrType\"].fillna(\"None\")\n",
    "df.loc[:, \"MasVnrArea\"] = df.loc[:, \"MasVnrArea\"].fillna(0)\n",
    "# MiscFeature : data description says NA means \"no misc feature\"\n",
    "df.loc[:, \"MiscFeature\"] = df.loc[:, \"MiscFeature\"].fillna(\"No\")\n",
    "df.loc[:, \"MiscVal\"] = df.loc[:, \"MiscVal\"].fillna(0)\n",
    "# OpenPorchSF : NA most likely means no open porch\n",
    "df.loc[:, \"OpenPorchSF\"] = df.loc[:, \"OpenPorchSF\"].fillna(0)\n",
    "# PavedDrive : NA most likely means not paved\n",
    "df.loc[:, \"PavedDrive\"] = df.loc[:, \"PavedDrive\"].fillna(\"N\")\n",
    "# PoolQC : data description says NA means \"no pool\"\n",
    "df.loc[:, \"PoolQC\"] = df.loc[:, \"PoolQC\"].fillna(\"No\")\n",
    "df.loc[:, \"PoolArea\"] = df.loc[:, \"PoolArea\"].fillna(0)\n",
    "# SaleCondition : NA most likely means normal sale\n",
    "df.loc[:, \"SaleCondition\"] = df.loc[:, \"SaleCondition\"].fillna(\"Normal\")\n",
    "# ScreenPorch : NA most likely means no screen porch\n",
    "df.loc[:, \"ScreenPorch\"] = df.loc[:, \"ScreenPorch\"].fillna(0)\n",
    "# TotRmsAbvGrd : NA most likely means 0\n",
    "df.loc[:, \"TotRmsAbvGrd\"] = df.loc[:, \"TotRmsAbvGrd\"].fillna(0)\n",
    "# Utilities : NA most likely means all public utilities\n",
    "df.loc[:, \"Utilities\"] = df.loc[:, \"Utilities\"].fillna(\"AllPub\")\n",
    "# WoodDeckSF : NA most likely means no wood deck\n",
    "df.loc[:, \"WoodDeckSF\"] = df.loc[:, \"WoodDeckSF\"].fillna(0)"
   ]
  },
  {
   "cell_type": "markdown",
   "metadata": {
    "collapsed": true
   },
   "source": [
    "# Some numerical features are actually really categories"
   ]
  },
  {
   "cell_type": "code",
   "execution_count": 9,
   "metadata": {
    "collapsed": true
   },
   "outputs": [],
   "source": [
    "# Some numerical features are actually really categories\n",
    "df = df.replace({\"MSSubClass\" : {20 : \"SC20\", 30 : \"SC30\", 40 : \"SC40\", 45 : \"SC45\", \n",
    "                                       50 : \"SC50\", 60 : \"SC60\", 70 : \"SC70\", 75 : \"SC75\", \n",
    "                                       80 : \"SC80\", 85 : \"SC85\", 90 : \"SC90\", 120 : \"SC120\", \n",
    "                                       150 : \"SC150\", 160 : \"SC160\", 180 : \"SC180\", 190 : \"SC190\"},\n",
    "                       \"MoSold\" : {1 : \"Jan\", 2 : \"Feb\", 3 : \"Mar\", 4 : \"Apr\", 5 : \"May\", 6 : \"Jun\",\n",
    "                                   7 : \"Jul\", 8 : \"Aug\", 9 : \"Sep\", 10 : \"Oct\", 11 : \"Nov\", 12 : \"Dec\"}\n",
    "                      })"
   ]
  },
  {
   "cell_type": "markdown",
   "metadata": {
    "collapsed": true
   },
   "source": [
    "# Ordinal colomns"
   ]
  },
  {
   "cell_type": "code",
   "execution_count": 10,
   "metadata": {
    "collapsed": true
   },
   "outputs": [],
   "source": [
    "# Encode some categorical features as ordered numbers when there is information in the order\n",
    "df = df.replace({\"Alley\" : {\"Grvl\" : 0, \"Pave\" : 1},\n",
    "                       \"BsmtCond\" : {\"No\" : 0, \"Po\" : 1, \"Fa\" : 2, \"TA\" : 3, \"Gd\" : 4, \"Ex\" : 5},\n",
    "                       \"BsmtExposure\" : {\"No\" : 0, \"Mn\" : 1, \"Av\": 2, \"Gd\" : 3},\n",
    "                       \"BsmtFinType1\" : {\"No\" : 0, \"Unf\" : 1, \"LwQ\": 2, \"Rec\" : 3, \"BLQ\" : 4, \n",
    "                                         \"ALQ\" : 5, \"GLQ\" : 6},\n",
    "                       \"BsmtFinType2\" : {\"No\" : 0, \"Unf\" : 1, \"LwQ\": 2, \"Rec\" : 3, \"BLQ\" : 4, \n",
    "                                         \"ALQ\" : 5, \"GLQ\" : 6},\n",
    "                       \"BsmtQual\" : {\"No\" : 0, \"Po\" : 1, \"Fa\" : 2, \"TA\": 3, \"Gd\" : 4, \"Ex\" : 5},\n",
    "                       \"ExterCond\" : {\"Po\" : 0, \"Fa\" : 1, \"TA\": 2, \"Gd\": 3, \"Ex\" : 4},\n",
    "                       \"ExterQual\" : {\"Po\" : 0, \"Fa\" : 1, \"TA\": 2, \"Gd\": 3, \"Ex\" : 4},\n",
    "                       \"FireplaceQu\" : {\"No\" : 0, \"Po\" : 1, \"Fa\" : 2, \"TA\" : 3, \"Gd\" : 4, \"Ex\" : 5},\n",
    "                       \"Functional\" : {\"Sal\" : 0, \"Sev\" : 1, \"Maj2\" : 2, \"Maj1\" : 3, \"Mod\": 4, \n",
    "                                       \"Min2\" : 5, \"Min1\" : 6, \"Typ\" : 7},\n",
    "                       \"GarageCond\" : {\"No\" : 0, \"Po\" : 1, \"Fa\" : 2, \"TA\" : 3, \"Gd\" : 4, \"Ex\" : 5},\n",
    "                       \"GarageQual\" : {\"No\" : 0, \"Po\" : 1, \"Fa\" : 2, \"TA\" : 3, \"Gd\" : 4, \"Ex\" : 5},\n",
    "                       \"HeatingQC\" : {\"Po\" : 0, \"Fa\" : 1, \"TA\" : 2, \"Gd\" : 3, \"Ex\" : 4},\n",
    "                       \"KitchenQual\" : {\"Po\" : 0, \"Fa\" : 1, \"TA\" : 2, \"Gd\" : 3, \"Ex\" : 4},\n",
    "                       \"LandSlope\" : {\"Sev\" : 0, \"Mod\" : 1, \"Gtl\" : 2},\n",
    "                       \"LotShape\" : {\"IR3\" : 0, \"IR2\" : 1, \"IR1\" : 2, \"Reg\" : 3},\n",
    "                       \"PavedDrive\" : {\"N\" : 0, \"P\" : 1, \"Y\" : 2},\n",
    "                       \"PoolQC\" : {\"No\" : 0, \"Fa\" : 1, \"TA\" : 2, \"Gd\" : 3, \"Ex\" : 4},\n",
    "                       \"Street\" : {\"Grvl\" : 0, \"Pave\" : 1},\n",
    "                       \"Utilities\" : {\"ELO\" : 0, \"NoSeWa\" : 1, \"NoSewr\" : 2, \"AllPub\" : 3}}\n",
    "                     )"
   ]
  },
  {
   "cell_type": "markdown",
   "metadata": {
    "collapsed": true
   },
   "source": [
    "## Get categorial colomns"
   ]
  },
  {
   "cell_type": "code",
   "execution_count": 11,
   "metadata": {
    "collapsed": false
   },
   "outputs": [
    {
     "name": "stdout",
     "output_type": "stream",
     "text": [
      "Categorical features : 26\n",
      "(2919, 26)\n"
     ]
    }
   ],
   "source": [
    "categorical_features = df.select_dtypes(include = [\"object\"]).columns\n",
    "print(\"Categorical features : \" + str(len(categorical_features)))\n",
    "df_cat = df[categorical_features]\n",
    "print(df_cat.shape)"
   ]
  },
  {
   "cell_type": "code",
   "execution_count": 12,
   "metadata": {
    "collapsed": false
   },
   "outputs": [
    {
     "name": "stdout",
     "output_type": "stream",
     "text": [
      "MSSubClass       0\n",
      "MSZoning         4\n",
      "Alley            0\n",
      "LandContour      0\n",
      "LotConfig        0\n",
      "Neighborhood     0\n",
      "Condition1       0\n",
      "Condition2       0\n",
      "BldgType         0\n",
      "HouseStyle       0\n",
      "RoofStyle        0\n",
      "RoofMatl         0\n",
      "Exterior1st      1\n",
      "Exterior2nd      1\n",
      "MasVnrType       0\n",
      "Foundation       0\n",
      "Heating          0\n",
      "CentralAir       0\n",
      "Electrical       1\n",
      "GarageType       0\n",
      "GarageFinish     0\n",
      "Fence            0\n",
      "MiscFeature      0\n",
      "MoSold           0\n",
      "SaleType         1\n",
      "SaleCondition    0\n",
      "dtype: int64\n",
      "5\n"
     ]
    }
   ],
   "source": [
    "print(check_nulls(df_cat))"
   ]
  },
  {
   "cell_type": "markdown",
   "metadata": {},
   "source": [
    "## Fill catgorial Nulls as \"None\""
   ]
  },
  {
   "cell_type": "code",
   "execution_count": 13,
   "metadata": {
    "collapsed": false
   },
   "outputs": [
    {
     "name": "stdout",
     "output_type": "stream",
     "text": [
      "MSSubClass       0\n",
      "MSZoning         0\n",
      "Alley            0\n",
      "LandContour      0\n",
      "LotConfig        0\n",
      "Neighborhood     0\n",
      "Condition1       0\n",
      "Condition2       0\n",
      "BldgType         0\n",
      "HouseStyle       0\n",
      "RoofStyle        0\n",
      "RoofMatl         0\n",
      "Exterior1st      0\n",
      "Exterior2nd      0\n",
      "MasVnrType       0\n",
      "Foundation       0\n",
      "Heating          0\n",
      "CentralAir       0\n",
      "Electrical       0\n",
      "GarageType       0\n",
      "GarageFinish     0\n",
      "Fence            0\n",
      "MiscFeature      0\n",
      "MoSold           0\n",
      "SaleType         0\n",
      "SaleCondition    0\n",
      "dtype: int64\n",
      "0\n"
     ]
    }
   ],
   "source": [
    "df_cat = df_cat.fillna(\"None\")\n",
    "print(check_nulls(df_cat))"
   ]
  },
  {
   "cell_type": "markdown",
   "metadata": {
    "collapsed": true
   },
   "source": [
    "## Get numerical colomns"
   ]
  },
  {
   "cell_type": "code",
   "execution_count": 14,
   "metadata": {
    "collapsed": false
   },
   "outputs": [
    {
     "name": "stdout",
     "output_type": "stream",
     "text": [
      "Numerical features : 54\n"
     ]
    }
   ],
   "source": [
    "numerical_features = df.select_dtypes(exclude = [\"object\"]).columns\n",
    "print(\"Numerical features : \" + str(len(numerical_features)))\n",
    "df_num = df[numerical_features]\n"
   ]
  },
  {
   "cell_type": "code",
   "execution_count": 15,
   "metadata": {
    "collapsed": false
   },
   "outputs": [
    {
     "name": "stdout",
     "output_type": "stream",
     "text": [
      "Id                 0\n",
      "LotFrontage        0\n",
      "LotArea            0\n",
      "Street             0\n",
      "LotShape           0\n",
      "Utilities          0\n",
      "LandSlope          0\n",
      "OverallQual        0\n",
      "OverallCond        0\n",
      "YearBuilt          0\n",
      "YearRemodAdd       0\n",
      "MasVnrArea         0\n",
      "ExterQual          0\n",
      "ExterCond          0\n",
      "BsmtQual           0\n",
      "BsmtCond           0\n",
      "BsmtExposure       0\n",
      "BsmtFinType1       0\n",
      "BsmtFinSF1         1\n",
      "BsmtFinType2       0\n",
      "BsmtFinSF2         1\n",
      "BsmtUnfSF          0\n",
      "TotalBsmtSF        1\n",
      "HeatingQC          0\n",
      "1stFlrSF           0\n",
      "2ndFlrSF           0\n",
      "LowQualFinSF       0\n",
      "GrLivArea          0\n",
      "BsmtFullBath       0\n",
      "BsmtHalfBath       0\n",
      "FullBath           0\n",
      "HalfBath           0\n",
      "BedroomAbvGr       0\n",
      "KitchenAbvGr       0\n",
      "KitchenQual        0\n",
      "TotRmsAbvGrd       0\n",
      "Functional         0\n",
      "Fireplaces         0\n",
      "FireplaceQu        0\n",
      "GarageYrBlt      159\n",
      "GarageCars         0\n",
      "GarageArea         0\n",
      "GarageQual         0\n",
      "GarageCond         0\n",
      "PavedDrive         0\n",
      "WoodDeckSF         0\n",
      "OpenPorchSF        0\n",
      "EnclosedPorch      0\n",
      "3SsnPorch          0\n",
      "ScreenPorch        0\n",
      "PoolArea           0\n",
      "PoolQC             0\n",
      "MiscVal            0\n",
      "YrSold             0\n",
      "dtype: int64\n"
     ]
    },
    {
     "data": {
      "text/plain": [
       "4"
      ]
     },
     "execution_count": 15,
     "metadata": {},
     "output_type": "execute_result"
    }
   ],
   "source": [
    "check_nulls(df_num)"
   ]
  },
  {
   "cell_type": "markdown",
   "metadata": {
    "collapsed": true
   },
   "source": [
    "### Fillna of the remaining numerical colomns as median"
   ]
  },
  {
   "cell_type": "code",
   "execution_count": 16,
   "metadata": {
    "collapsed": true
   },
   "outputs": [],
   "source": [
    "df_num = df_num.fillna(df_num.median())"
   ]
  },
  {
   "cell_type": "markdown",
   "metadata": {
    "collapsed": true
   },
   "source": [
    "### Handle skewed numberical cols as log"
   ]
  },
  {
   "cell_type": "code",
   "execution_count": 17,
   "metadata": {
    "collapsed": false
   },
   "outputs": [
    {
     "name": "stdout",
     "output_type": "stream",
     "text": [
      "41 skewed numerical features to log transform\n"
     ]
    }
   ],
   "source": [
    "# Log transform of the skewed numerical features to lessen impact of outliers\n",
    "# Inspired by Alexandru Papiu's script : https://www.kaggle.com/apapiu/house-prices-advanced-regression-techniques/regularized-linear-models\n",
    "# As a general rule of thumb, a skewness with an absolute value > 0.5 is considered at least moderately skewed\n",
    "skewness = df_num.apply(lambda x: skew(x))\n",
    "skewness = skewness[abs(skewness) > 0.5]\n",
    "print(str(skewness.shape[0]) + \" skewed numerical features to log transform\")\n",
    "skewed_features = skewness.index\n",
    "df_num[skewed_features] = np.log1p(df_num[skewed_features])"
   ]
  },
  {
   "cell_type": "markdown",
   "metadata": {
    "collapsed": true
   },
   "source": [
    "# Categorial encoding as OHE"
   ]
  },
  {
   "cell_type": "code",
   "execution_count": 18,
   "metadata": {
    "collapsed": false
   },
   "outputs": [
    {
     "name": "stdout",
     "output_type": "stream",
     "text": [
      "(2919, 80)\n",
      "(2919, 209)\n"
     ]
    }
   ],
   "source": [
    "print(df.shape)\n",
    "df_cat = pd.get_dummies(df_cat)\n",
    "print(df_cat.shape)# Extra colmns due to extra encoding 1-col per category\n"
   ]
  },
  {
   "cell_type": "markdown",
   "metadata": {},
   "source": [
    "## Merge numerical and categorial colomns again"
   ]
  },
  {
   "cell_type": "code",
   "execution_count": 19,
   "metadata": {
    "collapsed": false
   },
   "outputs": [
    {
     "data": {
      "text/plain": [
       "(2919, 263)"
      ]
     },
     "execution_count": 19,
     "metadata": {},
     "output_type": "execute_result"
    }
   ],
   "source": [
    "df = pd.concat([df_num, df_cat], axis = 1)\n",
    "df.shape"
   ]
  },
  {
   "cell_type": "markdown",
   "metadata": {},
   "source": [
    "## Re-split train and test data"
   ]
  },
  {
   "cell_type": "code",
   "execution_count": 30,
   "metadata": {
    "collapsed": false
   },
   "outputs": [
    {
     "name": "stdout",
     "output_type": "stream",
     "text": [
      "(1460, 263)\n",
      "(1459, 263)\n"
     ]
    }
   ],
   "source": [
    "X = train_df = df[:train_idx]\n",
    "X_test = test_df = df[train_idx:]\n",
    "print(train_df.shape)\n",
    "print(test_df.shape)"
   ]
  },
  {
   "cell_type": "markdown",
   "metadata": {},
   "source": [
    "## Train/Val split"
   ]
  },
  {
   "cell_type": "code",
   "execution_count": 24,
   "metadata": {
    "collapsed": false
   },
   "outputs": [
    {
     "name": "stdout",
     "output_type": "stream",
     "text": [
      "(1460, 263)\n",
      "(1460,)\n",
      "(1095, 263)\n",
      "(1095,)\n",
      "(365, 263)\n",
      "(365,)\n"
     ]
    }
   ],
   "source": [
    "X_train, X_val, Y_train, Y_val = train_test_split(X.as_matrix(), y.as_matrix(), test_size=0.25)\n",
    "print(X.shape)\n",
    "print(y.shape)\n",
    "print(X_train.shape)\n",
    "print(Y_train.shape)\n",
    "print(X_val.shape)\n",
    "print(Y_val.shape)"
   ]
  },
  {
   "cell_type": "markdown",
   "metadata": {},
   "source": [
    "# Model"
   ]
  },
  {
   "cell_type": "code",
   "execution_count": 27,
   "metadata": {
    "collapsed": false
   },
   "outputs": [
    {
     "name": "stdout",
     "output_type": "stream",
     "text": [
      "[0]\tvalidation_0-rmse:10.9792\n",
      "Will train until validation_0-rmse hasn't improved in 5 rounds.\n",
      "[1]\tvalidation_0-rmse:10.4331\n",
      "[2]\tvalidation_0-rmse:9.91424\n",
      "[3]\tvalidation_0-rmse:9.42139\n",
      "[4]\tvalidation_0-rmse:8.9532\n",
      "[5]\tvalidation_0-rmse:8.50845\n",
      "[6]\tvalidation_0-rmse:8.08452\n",
      "[7]\tvalidation_0-rmse:7.68178\n",
      "[8]\tvalidation_0-rmse:7.29916\n",
      "[9]\tvalidation_0-rmse:6.93567\n",
      "[10]\tvalidation_0-rmse:6.59149\n",
      "[11]\tvalidation_0-rmse:6.26372\n",
      "[12]\tvalidation_0-rmse:5.95308\n",
      "[13]\tvalidation_0-rmse:5.65814\n",
      "[14]\tvalidation_0-rmse:5.37675\n",
      "[15]\tvalidation_0-rmse:5.10966\n",
      "[16]\tvalidation_0-rmse:4.85679\n",
      "[17]\tvalidation_0-rmse:4.61578\n",
      "[18]\tvalidation_0-rmse:4.38761\n",
      "[19]\tvalidation_0-rmse:4.16983\n",
      "[20]\tvalidation_0-rmse:3.96358\n",
      "[21]\tvalidation_0-rmse:3.76797\n",
      "[22]\tvalidation_0-rmse:3.58121\n",
      "[23]\tvalidation_0-rmse:3.40395\n",
      "[24]\tvalidation_0-rmse:3.2362\n",
      "[25]\tvalidation_0-rmse:3.07587\n",
      "[26]\tvalidation_0-rmse:2.92475\n",
      "[27]\tvalidation_0-rmse:2.78064\n",
      "[28]\tvalidation_0-rmse:2.64332\n",
      "[29]\tvalidation_0-rmse:2.51386\n",
      "[30]\tvalidation_0-rmse:2.39036\n",
      "[31]\tvalidation_0-rmse:2.27233\n",
      "[32]\tvalidation_0-rmse:2.16063\n",
      "[33]\tvalidation_0-rmse:2.05508\n",
      "[34]\tvalidation_0-rmse:1.95486\n",
      "[35]\tvalidation_0-rmse:1.8589\n",
      "[36]\tvalidation_0-rmse:1.76861\n",
      "[37]\tvalidation_0-rmse:1.68186\n",
      "[38]\tvalidation_0-rmse:1.59935\n",
      "[39]\tvalidation_0-rmse:1.52129\n",
      "[40]\tvalidation_0-rmse:1.44716\n",
      "[41]\tvalidation_0-rmse:1.37701\n",
      "[42]\tvalidation_0-rmse:1.31015\n",
      "[43]\tvalidation_0-rmse:1.24666\n",
      "[44]\tvalidation_0-rmse:1.18627\n",
      "[45]\tvalidation_0-rmse:1.12961\n",
      "[46]\tvalidation_0-rmse:1.07567\n",
      "[47]\tvalidation_0-rmse:1.02402\n",
      "[48]\tvalidation_0-rmse:0.975175\n",
      "[49]\tvalidation_0-rmse:0.928774\n",
      "[50]\tvalidation_0-rmse:0.88489\n",
      "[51]\tvalidation_0-rmse:0.842834\n",
      "[52]\tvalidation_0-rmse:0.803021\n",
      "[53]\tvalidation_0-rmse:0.765699\n",
      "[54]\tvalidation_0-rmse:0.729967\n",
      "[55]\tvalidation_0-rmse:0.696226\n",
      "[56]\tvalidation_0-rmse:0.664071\n",
      "[57]\tvalidation_0-rmse:0.633602\n",
      "[58]\tvalidation_0-rmse:0.60471\n",
      "[59]\tvalidation_0-rmse:0.577509\n",
      "[60]\tvalidation_0-rmse:0.551557\n",
      "[61]\tvalidation_0-rmse:0.526908\n",
      "[62]\tvalidation_0-rmse:0.503996\n",
      "[63]\tvalidation_0-rmse:0.482009\n",
      "[64]\tvalidation_0-rmse:0.461313\n",
      "[65]\tvalidation_0-rmse:0.441228\n",
      "[66]\tvalidation_0-rmse:0.422545\n",
      "[67]\tvalidation_0-rmse:0.404824\n",
      "[68]\tvalidation_0-rmse:0.388135\n",
      "[69]\tvalidation_0-rmse:0.372213\n",
      "[70]\tvalidation_0-rmse:0.357623\n",
      "[71]\tvalidation_0-rmse:0.343487\n",
      "[72]\tvalidation_0-rmse:0.33068\n",
      "[73]\tvalidation_0-rmse:0.318065\n",
      "[74]\tvalidation_0-rmse:0.306539\n",
      "[75]\tvalidation_0-rmse:0.295477\n",
      "[76]\tvalidation_0-rmse:0.284996\n",
      "[77]\tvalidation_0-rmse:0.275304\n",
      "[78]\tvalidation_0-rmse:0.266017\n",
      "[79]\tvalidation_0-rmse:0.257187\n",
      "[80]\tvalidation_0-rmse:0.249176\n",
      "[81]\tvalidation_0-rmse:0.241625\n",
      "[82]\tvalidation_0-rmse:0.23456\n",
      "[83]\tvalidation_0-rmse:0.227658\n",
      "[84]\tvalidation_0-rmse:0.221376\n",
      "[85]\tvalidation_0-rmse:0.215678\n",
      "[86]\tvalidation_0-rmse:0.210413\n",
      "[87]\tvalidation_0-rmse:0.205237\n",
      "[88]\tvalidation_0-rmse:0.200502\n",
      "[89]\tvalidation_0-rmse:0.196101\n",
      "[90]\tvalidation_0-rmse:0.192137\n",
      "[91]\tvalidation_0-rmse:0.188595\n",
      "[92]\tvalidation_0-rmse:0.184853\n",
      "[93]\tvalidation_0-rmse:0.18125\n",
      "[94]\tvalidation_0-rmse:0.178038\n",
      "[95]\tvalidation_0-rmse:0.174974\n",
      "[96]\tvalidation_0-rmse:0.172331\n",
      "[97]\tvalidation_0-rmse:0.170021\n",
      "[98]\tvalidation_0-rmse:0.16737\n",
      "[99]\tvalidation_0-rmse:0.165322\n",
      "[100]\tvalidation_0-rmse:0.163359\n",
      "[101]\tvalidation_0-rmse:0.161319\n",
      "[102]\tvalidation_0-rmse:0.159747\n",
      "[103]\tvalidation_0-rmse:0.15798\n",
      "[104]\tvalidation_0-rmse:0.156563\n",
      "[105]\tvalidation_0-rmse:0.155097\n",
      "[106]\tvalidation_0-rmse:0.153793\n",
      "[107]\tvalidation_0-rmse:0.152561\n",
      "[108]\tvalidation_0-rmse:0.151482\n",
      "[109]\tvalidation_0-rmse:0.150075\n",
      "[110]\tvalidation_0-rmse:0.149052\n",
      "[111]\tvalidation_0-rmse:0.148113\n",
      "[112]\tvalidation_0-rmse:0.147334\n",
      "[113]\tvalidation_0-rmse:0.146519\n",
      "[114]\tvalidation_0-rmse:0.145634\n",
      "[115]\tvalidation_0-rmse:0.144744\n",
      "[116]\tvalidation_0-rmse:0.144054\n",
      "[117]\tvalidation_0-rmse:0.143545\n",
      "[118]\tvalidation_0-rmse:0.143003\n",
      "[119]\tvalidation_0-rmse:0.142463\n",
      "[120]\tvalidation_0-rmse:0.141813\n",
      "[121]\tvalidation_0-rmse:0.141301\n",
      "[122]\tvalidation_0-rmse:0.140925\n",
      "[123]\tvalidation_0-rmse:0.140571\n",
      "[124]\tvalidation_0-rmse:0.140003\n",
      "[125]\tvalidation_0-rmse:0.1395\n",
      "[126]\tvalidation_0-rmse:0.139025\n",
      "[127]\tvalidation_0-rmse:0.138709\n",
      "[128]\tvalidation_0-rmse:0.138231\n",
      "[129]\tvalidation_0-rmse:0.137939\n",
      "[130]\tvalidation_0-rmse:0.137407\n",
      "[131]\tvalidation_0-rmse:0.137094\n",
      "[132]\tvalidation_0-rmse:0.136849\n",
      "[133]\tvalidation_0-rmse:0.13654\n",
      "[134]\tvalidation_0-rmse:0.136136\n",
      "[135]\tvalidation_0-rmse:0.135864\n",
      "[136]\tvalidation_0-rmse:0.135724\n",
      "[137]\tvalidation_0-rmse:0.135518\n",
      "[138]\tvalidation_0-rmse:0.135135\n",
      "[139]\tvalidation_0-rmse:0.135067\n",
      "[140]\tvalidation_0-rmse:0.134903\n",
      "[141]\tvalidation_0-rmse:0.134641\n",
      "[142]\tvalidation_0-rmse:0.134539\n",
      "[143]\tvalidation_0-rmse:0.134354\n",
      "[144]\tvalidation_0-rmse:0.134221\n",
      "[145]\tvalidation_0-rmse:0.134086\n",
      "[146]\tvalidation_0-rmse:0.1338\n",
      "[147]\tvalidation_0-rmse:0.133633\n",
      "[148]\tvalidation_0-rmse:0.133449\n",
      "[149]\tvalidation_0-rmse:0.13326\n",
      "[150]\tvalidation_0-rmse:0.133093\n",
      "[151]\tvalidation_0-rmse:0.133021\n",
      "[152]\tvalidation_0-rmse:0.132826\n",
      "[153]\tvalidation_0-rmse:0.13279\n",
      "[154]\tvalidation_0-rmse:0.132743\n",
      "[155]\tvalidation_0-rmse:0.132551\n",
      "[156]\tvalidation_0-rmse:0.132292\n",
      "[157]\tvalidation_0-rmse:0.132062\n",
      "[158]\tvalidation_0-rmse:0.13185\n",
      "[159]\tvalidation_0-rmse:0.131768\n",
      "[160]\tvalidation_0-rmse:0.131627\n",
      "[161]\tvalidation_0-rmse:0.131433\n",
      "[162]\tvalidation_0-rmse:0.131315\n",
      "[163]\tvalidation_0-rmse:0.131275\n",
      "[164]\tvalidation_0-rmse:0.131221\n",
      "[165]\tvalidation_0-rmse:0.13114\n",
      "[166]\tvalidation_0-rmse:0.130955\n",
      "[167]\tvalidation_0-rmse:0.130895\n",
      "[168]\tvalidation_0-rmse:0.13071\n",
      "[169]\tvalidation_0-rmse:0.130557\n",
      "[170]\tvalidation_0-rmse:0.130428\n",
      "[171]\tvalidation_0-rmse:0.130268\n",
      "[172]\tvalidation_0-rmse:0.130172\n",
      "[173]\tvalidation_0-rmse:0.130133\n",
      "[174]\tvalidation_0-rmse:0.130104\n",
      "[175]\tvalidation_0-rmse:0.129977\n",
      "[176]\tvalidation_0-rmse:0.129886\n",
      "[177]\tvalidation_0-rmse:0.12984\n",
      "[178]\tvalidation_0-rmse:0.129685\n",
      "[179]\tvalidation_0-rmse:0.12962\n",
      "[180]\tvalidation_0-rmse:0.129498\n",
      "[181]\tvalidation_0-rmse:0.12946\n",
      "[182]\tvalidation_0-rmse:0.129467\n",
      "[183]\tvalidation_0-rmse:0.129359\n",
      "[184]\tvalidation_0-rmse:0.129279\n",
      "[185]\tvalidation_0-rmse:0.129244\n",
      "[186]\tvalidation_0-rmse:0.129097\n",
      "[187]\tvalidation_0-rmse:0.129106\n",
      "[188]\tvalidation_0-rmse:0.129038\n",
      "[189]\tvalidation_0-rmse:0.128932\n",
      "[190]\tvalidation_0-rmse:0.128828\n",
      "[191]\tvalidation_0-rmse:0.128743\n",
      "[192]\tvalidation_0-rmse:0.128596\n",
      "[193]\tvalidation_0-rmse:0.128624\n",
      "[194]\tvalidation_0-rmse:0.128577\n",
      "[195]\tvalidation_0-rmse:0.128534\n",
      "[196]\tvalidation_0-rmse:0.128395\n",
      "[197]\tvalidation_0-rmse:0.128385\n",
      "[198]\tvalidation_0-rmse:0.128396\n",
      "[199]\tvalidation_0-rmse:0.128312\n",
      "[200]\tvalidation_0-rmse:0.128223\n",
      "[201]\tvalidation_0-rmse:0.128091\n",
      "[202]\tvalidation_0-rmse:0.128068\n",
      "[203]\tvalidation_0-rmse:0.128011\n",
      "[204]\tvalidation_0-rmse:0.127947\n",
      "[205]\tvalidation_0-rmse:0.127794\n",
      "[206]\tvalidation_0-rmse:0.127697\n",
      "[207]\tvalidation_0-rmse:0.127575\n",
      "[208]\tvalidation_0-rmse:0.127495\n",
      "[209]\tvalidation_0-rmse:0.127487\n",
      "[210]\tvalidation_0-rmse:0.127394\n",
      "[211]\tvalidation_0-rmse:0.127317\n",
      "[212]\tvalidation_0-rmse:0.127268\n",
      "[213]\tvalidation_0-rmse:0.127194\n",
      "[214]\tvalidation_0-rmse:0.12721\n",
      "[215]\tvalidation_0-rmse:0.127161\n",
      "[216]\tvalidation_0-rmse:0.127049\n",
      "[217]\tvalidation_0-rmse:0.127005\n",
      "[218]\tvalidation_0-rmse:0.126943\n",
      "[219]\tvalidation_0-rmse:0.126812\n",
      "[220]\tvalidation_0-rmse:0.126733\n",
      "[221]\tvalidation_0-rmse:0.126702\n",
      "[222]\tvalidation_0-rmse:0.126662\n",
      "[223]\tvalidation_0-rmse:0.126585\n",
      "[224]\tvalidation_0-rmse:0.126592\n",
      "[225]\tvalidation_0-rmse:0.126559\n",
      "[226]\tvalidation_0-rmse:0.12651\n",
      "[227]\tvalidation_0-rmse:0.126439\n",
      "[228]\tvalidation_0-rmse:0.126385\n",
      "[229]\tvalidation_0-rmse:0.126382\n",
      "[230]\tvalidation_0-rmse:0.126285\n",
      "[231]\tvalidation_0-rmse:0.126246\n",
      "[232]\tvalidation_0-rmse:0.126184\n",
      "[233]\tvalidation_0-rmse:0.126076\n",
      "[234]\tvalidation_0-rmse:0.12608\n",
      "[235]\tvalidation_0-rmse:0.126\n",
      "[236]\tvalidation_0-rmse:0.125898\n",
      "[237]\tvalidation_0-rmse:0.125784\n",
      "[238]\tvalidation_0-rmse:0.125684\n",
      "[239]\tvalidation_0-rmse:0.125567\n",
      "[240]\tvalidation_0-rmse:0.125577\n",
      "[241]\tvalidation_0-rmse:0.125559\n",
      "[242]\tvalidation_0-rmse:0.125598\n",
      "[243]\tvalidation_0-rmse:0.125512\n",
      "[244]\tvalidation_0-rmse:0.125495\n",
      "[245]\tvalidation_0-rmse:0.125374\n",
      "[246]\tvalidation_0-rmse:0.125344\n",
      "[247]\tvalidation_0-rmse:0.125262\n",
      "[248]\tvalidation_0-rmse:0.125203\n",
      "[249]\tvalidation_0-rmse:0.125173\n",
      "[250]\tvalidation_0-rmse:0.125145\n",
      "[251]\tvalidation_0-rmse:0.125079\n",
      "[252]\tvalidation_0-rmse:0.125071\n",
      "[253]\tvalidation_0-rmse:0.125003\n",
      "[254]\tvalidation_0-rmse:0.125025\n",
      "[255]\tvalidation_0-rmse:0.125008\n",
      "[256]\tvalidation_0-rmse:0.125044\n",
      "[257]\tvalidation_0-rmse:0.12493\n",
      "[258]\tvalidation_0-rmse:0.124872\n",
      "[259]\tvalidation_0-rmse:0.124885\n",
      "[260]\tvalidation_0-rmse:0.124864\n",
      "[261]\tvalidation_0-rmse:0.124853\n",
      "[262]\tvalidation_0-rmse:0.124878\n",
      "[263]\tvalidation_0-rmse:0.124854\n",
      "[264]\tvalidation_0-rmse:0.124845\n",
      "[265]\tvalidation_0-rmse:0.124789\n",
      "[266]\tvalidation_0-rmse:0.124741\n",
      "[267]\tvalidation_0-rmse:0.124782\n",
      "[268]\tvalidation_0-rmse:0.124756\n",
      "[269]\tvalidation_0-rmse:0.124736\n",
      "[270]\tvalidation_0-rmse:0.124624\n",
      "[271]\tvalidation_0-rmse:0.124543\n",
      "[272]\tvalidation_0-rmse:0.124509\n",
      "[273]\tvalidation_0-rmse:0.12453\n",
      "[274]\tvalidation_0-rmse:0.124435\n",
      "[275]\tvalidation_0-rmse:0.124405\n",
      "[276]\tvalidation_0-rmse:0.124357\n",
      "[277]\tvalidation_0-rmse:0.124372\n",
      "[278]\tvalidation_0-rmse:0.124355\n",
      "[279]\tvalidation_0-rmse:0.124326\n",
      "[280]\tvalidation_0-rmse:0.124272\n",
      "[281]\tvalidation_0-rmse:0.124233\n",
      "[282]\tvalidation_0-rmse:0.124257\n",
      "[283]\tvalidation_0-rmse:0.124226\n",
      "[284]\tvalidation_0-rmse:0.124223\n",
      "[285]\tvalidation_0-rmse:0.12412\n",
      "[286]\tvalidation_0-rmse:0.124085\n",
      "[287]\tvalidation_0-rmse:0.124012\n",
      "[288]\tvalidation_0-rmse:0.123982\n",
      "[289]\tvalidation_0-rmse:0.123938\n",
      "[290]\tvalidation_0-rmse:0.123908\n",
      "[291]\tvalidation_0-rmse:0.123838\n",
      "[292]\tvalidation_0-rmse:0.123882\n",
      "[293]\tvalidation_0-rmse:0.12384\n",
      "[294]\tvalidation_0-rmse:0.123805\n",
      "[295]\tvalidation_0-rmse:0.123807\n",
      "[296]\tvalidation_0-rmse:0.123797\n",
      "[297]\tvalidation_0-rmse:0.123743\n",
      "[298]\tvalidation_0-rmse:0.12375\n",
      "[299]\tvalidation_0-rmse:0.123726\n",
      "[300]\tvalidation_0-rmse:0.123736\n",
      "[301]\tvalidation_0-rmse:0.123668\n",
      "[302]\tvalidation_0-rmse:0.12366\n",
      "[303]\tvalidation_0-rmse:0.123611\n",
      "[304]\tvalidation_0-rmse:0.123623\n",
      "[305]\tvalidation_0-rmse:0.123602\n",
      "[306]\tvalidation_0-rmse:0.123566\n",
      "[307]\tvalidation_0-rmse:0.123517\n",
      "[308]\tvalidation_0-rmse:0.123507\n",
      "[309]\tvalidation_0-rmse:0.123548\n",
      "[310]\tvalidation_0-rmse:0.12355\n",
      "[311]\tvalidation_0-rmse:0.123579\n",
      "[312]\tvalidation_0-rmse:0.123563\n",
      "[313]\tvalidation_0-rmse:0.123516\n",
      "Stopping. Best iteration:\n",
      "[308]\tvalidation_0-rmse:0.123507\n",
      "\n"
     ]
    },
    {
     "data": {
      "text/plain": [
       "XGBRegressor(base_score=0.5, colsample_bylevel=1, colsample_bytree=1, gamma=0,\n",
       "       learning_rate=0.05, max_delta_step=0, max_depth=3,\n",
       "       min_child_weight=1, missing=None, n_estimators=1000, nthread=-1,\n",
       "       objective='reg:linear', reg_alpha=0, reg_lambda=1,\n",
       "       scale_pos_weight=1, seed=0, silent=True, subsample=1)"
      ]
     },
     "execution_count": 27,
     "metadata": {},
     "output_type": "execute_result"
    }
   ],
   "source": [
    "\n",
    "\n",
    "XGB = XGBRegressor(n_estimators=1000, learning_rate=0.05)\n",
    "# Add silent=True to avoid printing out updates with each cycle\n",
    "XGB.fit(X_train, Y_train, eval_set=[(X_val, Y_val)], verbose=True, early_stopping_rounds=5)"
   ]
  },
  {
   "cell_type": "code",
   "execution_count": 28,
   "metadata": {
    "collapsed": false
   },
   "outputs": [
    {
     "name": "stdout",
     "output_type": "stream",
     "text": [
      "Mean Absolute Error : 0.0862892419792\n",
      "Mean Squared Error : 0.0152561837081\n",
      "Root Mean Squared Error : 0.123515924917\n"
     ]
    }
   ],
   "source": [
    "# make predictions\n",
    "predictions = XGB.predict(X_val)\n",
    "\n",
    "\n",
    "print(\"Mean Absolute Error : \" + str(mean_absolute_error(predictions, Y_val)))\n",
    "print(\"Mean Squared Error : \" + str(mean_squared_error(predictions, Y_val)))\n",
    "print(\"Root Mean Squared Error : \" + str(np.sqrt(mean_squared_error(predictions, Y_val))))"
   ]
  },
  {
   "cell_type": "markdown",
   "metadata": {},
   "source": [
    "# Submit"
   ]
  },
  {
   "cell_type": "code",
   "execution_count": 31,
   "metadata": {
    "collapsed": true
   },
   "outputs": [],
   "source": [
    "predictions = XGB.predict(X_test.as_matrix())"
   ]
  },
  {
   "cell_type": "code",
   "execution_count": 32,
   "metadata": {
    "collapsed": true
   },
   "outputs": [],
   "source": [
    "predicted_prices = np.expm1(predictions)"
   ]
  },
  {
   "cell_type": "code",
   "execution_count": 33,
   "metadata": {
    "collapsed": true
   },
   "outputs": [],
   "source": [
    "my_submission = pd.DataFrame({'Id': test_df.Id, 'SalePrice': predicted_prices})\n",
    "# you could use any filename. We choose submission here\n",
    "my_submission.to_csv('submission.csv', index=False)\n",
    "\n",
    "\n"
   ]
  }
 ],
 "metadata": {
  "anaconda-cloud": {},
  "kernelspec": {
   "display_name": "Python [conda root]",
   "language": "python",
   "name": "conda-root-py"
  },
  "language_info": {
   "codemirror_mode": {
    "name": "ipython",
    "version": 3
   },
   "file_extension": ".py",
   "mimetype": "text/x-python",
   "name": "python",
   "nbconvert_exporter": "python",
   "pygments_lexer": "ipython3",
   "version": "3.5.2"
  }
 },
 "nbformat": 4,
 "nbformat_minor": 1
}
